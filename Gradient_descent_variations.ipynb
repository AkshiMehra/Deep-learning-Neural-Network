{
  "nbformat": 4,
  "nbformat_minor": 0,
  "metadata": {
    "colab": {
      "name": "Gradient_descent_variations.ipynb",
      "provenance": [],
      "collapsed_sections": [],
      "toc_visible": true,
      "authorship_tag": "ABX9TyO12l7zpCpeehcN5RxwilG+",
      "include_colab_link": true
    },
    "kernelspec": {
      "name": "python3",
      "display_name": "Python 3"
    },
    "widgets": {
      "application/vnd.jupyter.widget-state+json": {
        "9a31e0bb28b44d9eaf4e60347300326b": {
          "model_module": "@jupyter-widgets/controls",
          "model_name": "HBoxModel",
          "state": {
            "_view_name": "HBoxView",
            "_dom_classes": [],
            "_model_name": "HBoxModel",
            "_view_module": "@jupyter-widgets/controls",
            "_model_module_version": "1.5.0",
            "_view_count": null,
            "_view_module_version": "1.5.0",
            "box_style": "",
            "layout": "IPY_MODEL_5b3de2fc18764287b55a40263fc97220",
            "_model_module": "@jupyter-widgets/controls",
            "children": [
              "IPY_MODEL_5f66364033a24d60b583cc8b51a1342f",
              "IPY_MODEL_f801581729234aa094f0ac7615339abc"
            ]
          }
        },
        "5b3de2fc18764287b55a40263fc97220": {
          "model_module": "@jupyter-widgets/base",
          "model_name": "LayoutModel",
          "state": {
            "_view_name": "LayoutView",
            "grid_template_rows": null,
            "right": null,
            "justify_content": null,
            "_view_module": "@jupyter-widgets/base",
            "overflow": null,
            "_model_module_version": "1.2.0",
            "_view_count": null,
            "flex_flow": null,
            "width": null,
            "min_width": null,
            "border": null,
            "align_items": null,
            "bottom": null,
            "_model_module": "@jupyter-widgets/base",
            "top": null,
            "grid_column": null,
            "overflow_y": null,
            "overflow_x": null,
            "grid_auto_flow": null,
            "grid_area": null,
            "grid_template_columns": null,
            "flex": null,
            "_model_name": "LayoutModel",
            "justify_items": null,
            "grid_row": null,
            "max_height": null,
            "align_content": null,
            "visibility": null,
            "align_self": null,
            "height": null,
            "min_height": null,
            "padding": null,
            "grid_auto_rows": null,
            "grid_gap": null,
            "max_width": null,
            "order": null,
            "_view_module_version": "1.2.0",
            "grid_template_areas": null,
            "object_position": null,
            "object_fit": null,
            "grid_auto_columns": null,
            "margin": null,
            "display": null,
            "left": null
          }
        },
        "5f66364033a24d60b583cc8b51a1342f": {
          "model_module": "@jupyter-widgets/controls",
          "model_name": "FloatProgressModel",
          "state": {
            "_view_name": "ProgressView",
            "style": "IPY_MODEL_b7378a4a99574bb399c1b7c670898a6b",
            "_dom_classes": [],
            "description": "100%",
            "_model_name": "FloatProgressModel",
            "bar_style": "success",
            "max": 200,
            "_view_module": "@jupyter-widgets/controls",
            "_model_module_version": "1.5.0",
            "value": 200,
            "_view_count": null,
            "_view_module_version": "1.5.0",
            "orientation": "horizontal",
            "min": 0,
            "description_tooltip": null,
            "_model_module": "@jupyter-widgets/controls",
            "layout": "IPY_MODEL_7e5c72a97d154941a70c4c08c28cdb7e"
          }
        },
        "f801581729234aa094f0ac7615339abc": {
          "model_module": "@jupyter-widgets/controls",
          "model_name": "HTMLModel",
          "state": {
            "_view_name": "HTMLView",
            "style": "IPY_MODEL_e3ffc9912cf74513bae025338538cf5f",
            "_dom_classes": [],
            "description": "",
            "_model_name": "HTMLModel",
            "placeholder": "​",
            "_view_module": "@jupyter-widgets/controls",
            "_model_module_version": "1.5.0",
            "value": " 200/200 [00:08&lt;00:00, 23.45epoch/s]",
            "_view_count": null,
            "_view_module_version": "1.5.0",
            "description_tooltip": null,
            "_model_module": "@jupyter-widgets/controls",
            "layout": "IPY_MODEL_28d5e3b369994439b2d8a5c3c1546f02"
          }
        },
        "b7378a4a99574bb399c1b7c670898a6b": {
          "model_module": "@jupyter-widgets/controls",
          "model_name": "ProgressStyleModel",
          "state": {
            "_view_name": "StyleView",
            "_model_name": "ProgressStyleModel",
            "description_width": "initial",
            "_view_module": "@jupyter-widgets/base",
            "_model_module_version": "1.5.0",
            "_view_count": null,
            "_view_module_version": "1.2.0",
            "bar_color": null,
            "_model_module": "@jupyter-widgets/controls"
          }
        },
        "7e5c72a97d154941a70c4c08c28cdb7e": {
          "model_module": "@jupyter-widgets/base",
          "model_name": "LayoutModel",
          "state": {
            "_view_name": "LayoutView",
            "grid_template_rows": null,
            "right": null,
            "justify_content": null,
            "_view_module": "@jupyter-widgets/base",
            "overflow": null,
            "_model_module_version": "1.2.0",
            "_view_count": null,
            "flex_flow": null,
            "width": null,
            "min_width": null,
            "border": null,
            "align_items": null,
            "bottom": null,
            "_model_module": "@jupyter-widgets/base",
            "top": null,
            "grid_column": null,
            "overflow_y": null,
            "overflow_x": null,
            "grid_auto_flow": null,
            "grid_area": null,
            "grid_template_columns": null,
            "flex": null,
            "_model_name": "LayoutModel",
            "justify_items": null,
            "grid_row": null,
            "max_height": null,
            "align_content": null,
            "visibility": null,
            "align_self": null,
            "height": null,
            "min_height": null,
            "padding": null,
            "grid_auto_rows": null,
            "grid_gap": null,
            "max_width": null,
            "order": null,
            "_view_module_version": "1.2.0",
            "grid_template_areas": null,
            "object_position": null,
            "object_fit": null,
            "grid_auto_columns": null,
            "margin": null,
            "display": null,
            "left": null
          }
        },
        "e3ffc9912cf74513bae025338538cf5f": {
          "model_module": "@jupyter-widgets/controls",
          "model_name": "DescriptionStyleModel",
          "state": {
            "_view_name": "StyleView",
            "_model_name": "DescriptionStyleModel",
            "description_width": "",
            "_view_module": "@jupyter-widgets/base",
            "_model_module_version": "1.5.0",
            "_view_count": null,
            "_view_module_version": "1.2.0",
            "_model_module": "@jupyter-widgets/controls"
          }
        },
        "28d5e3b369994439b2d8a5c3c1546f02": {
          "model_module": "@jupyter-widgets/base",
          "model_name": "LayoutModel",
          "state": {
            "_view_name": "LayoutView",
            "grid_template_rows": null,
            "right": null,
            "justify_content": null,
            "_view_module": "@jupyter-widgets/base",
            "overflow": null,
            "_model_module_version": "1.2.0",
            "_view_count": null,
            "flex_flow": null,
            "width": null,
            "min_width": null,
            "border": null,
            "align_items": null,
            "bottom": null,
            "_model_module": "@jupyter-widgets/base",
            "top": null,
            "grid_column": null,
            "overflow_y": null,
            "overflow_x": null,
            "grid_auto_flow": null,
            "grid_area": null,
            "grid_template_columns": null,
            "flex": null,
            "_model_name": "LayoutModel",
            "justify_items": null,
            "grid_row": null,
            "max_height": null,
            "align_content": null,
            "visibility": null,
            "align_self": null,
            "height": null,
            "min_height": null,
            "padding": null,
            "grid_auto_rows": null,
            "grid_gap": null,
            "max_width": null,
            "order": null,
            "_view_module_version": "1.2.0",
            "grid_template_areas": null,
            "object_position": null,
            "object_fit": null,
            "grid_auto_columns": null,
            "margin": null,
            "display": null,
            "left": null
          }
        },
        "f1a167b1af1142d5991dbe2ee735876d": {
          "model_module": "@jupyter-widgets/controls",
          "model_name": "HBoxModel",
          "state": {
            "_view_name": "HBoxView",
            "_dom_classes": [],
            "_model_name": "HBoxModel",
            "_view_module": "@jupyter-widgets/controls",
            "_model_module_version": "1.5.0",
            "_view_count": null,
            "_view_module_version": "1.5.0",
            "box_style": "",
            "layout": "IPY_MODEL_c3cfc3970158457bb42ed231a26da60e",
            "_model_module": "@jupyter-widgets/controls",
            "children": [
              "IPY_MODEL_00af8d0a1b9f4e3bb0ebabf5566e16d0",
              "IPY_MODEL_43870368502548abb0b64673464cf93c"
            ]
          }
        },
        "c3cfc3970158457bb42ed231a26da60e": {
          "model_module": "@jupyter-widgets/base",
          "model_name": "LayoutModel",
          "state": {
            "_view_name": "LayoutView",
            "grid_template_rows": null,
            "right": null,
            "justify_content": null,
            "_view_module": "@jupyter-widgets/base",
            "overflow": null,
            "_model_module_version": "1.2.0",
            "_view_count": null,
            "flex_flow": null,
            "width": null,
            "min_width": null,
            "border": null,
            "align_items": null,
            "bottom": null,
            "_model_module": "@jupyter-widgets/base",
            "top": null,
            "grid_column": null,
            "overflow_y": null,
            "overflow_x": null,
            "grid_auto_flow": null,
            "grid_area": null,
            "grid_template_columns": null,
            "flex": null,
            "_model_name": "LayoutModel",
            "justify_items": null,
            "grid_row": null,
            "max_height": null,
            "align_content": null,
            "visibility": null,
            "align_self": null,
            "height": null,
            "min_height": null,
            "padding": null,
            "grid_auto_rows": null,
            "grid_gap": null,
            "max_width": null,
            "order": null,
            "_view_module_version": "1.2.0",
            "grid_template_areas": null,
            "object_position": null,
            "object_fit": null,
            "grid_auto_columns": null,
            "margin": null,
            "display": null,
            "left": null
          }
        },
        "00af8d0a1b9f4e3bb0ebabf5566e16d0": {
          "model_module": "@jupyter-widgets/controls",
          "model_name": "FloatProgressModel",
          "state": {
            "_view_name": "ProgressView",
            "style": "IPY_MODEL_e0be5a26ada2443d927a6d77f8cacf83",
            "_dom_classes": [],
            "description": "100%",
            "_model_name": "FloatProgressModel",
            "bar_style": "success",
            "max": 100,
            "_view_module": "@jupyter-widgets/controls",
            "_model_module_version": "1.5.0",
            "value": 100,
            "_view_count": null,
            "_view_module_version": "1.5.0",
            "orientation": "horizontal",
            "min": 0,
            "description_tooltip": null,
            "_model_module": "@jupyter-widgets/controls",
            "layout": "IPY_MODEL_f2240da75e7f4d9dade4b7caa7a3acbe"
          }
        },
        "43870368502548abb0b64673464cf93c": {
          "model_module": "@jupyter-widgets/controls",
          "model_name": "HTMLModel",
          "state": {
            "_view_name": "HTMLView",
            "style": "IPY_MODEL_0e6c524ec5ca46cf97d5a947b8f63e2e",
            "_dom_classes": [],
            "description": "",
            "_model_name": "HTMLModel",
            "placeholder": "​",
            "_view_module": "@jupyter-widgets/controls",
            "_model_module_version": "1.5.0",
            "value": " 100/100 [00:04&lt;00:00, 24.61epoch/s]",
            "_view_count": null,
            "_view_module_version": "1.5.0",
            "description_tooltip": null,
            "_model_module": "@jupyter-widgets/controls",
            "layout": "IPY_MODEL_aa19053c9db54c789b2f31f5fb477096"
          }
        },
        "e0be5a26ada2443d927a6d77f8cacf83": {
          "model_module": "@jupyter-widgets/controls",
          "model_name": "ProgressStyleModel",
          "state": {
            "_view_name": "StyleView",
            "_model_name": "ProgressStyleModel",
            "description_width": "initial",
            "_view_module": "@jupyter-widgets/base",
            "_model_module_version": "1.5.0",
            "_view_count": null,
            "_view_module_version": "1.2.0",
            "bar_color": null,
            "_model_module": "@jupyter-widgets/controls"
          }
        },
        "f2240da75e7f4d9dade4b7caa7a3acbe": {
          "model_module": "@jupyter-widgets/base",
          "model_name": "LayoutModel",
          "state": {
            "_view_name": "LayoutView",
            "grid_template_rows": null,
            "right": null,
            "justify_content": null,
            "_view_module": "@jupyter-widgets/base",
            "overflow": null,
            "_model_module_version": "1.2.0",
            "_view_count": null,
            "flex_flow": null,
            "width": null,
            "min_width": null,
            "border": null,
            "align_items": null,
            "bottom": null,
            "_model_module": "@jupyter-widgets/base",
            "top": null,
            "grid_column": null,
            "overflow_y": null,
            "overflow_x": null,
            "grid_auto_flow": null,
            "grid_area": null,
            "grid_template_columns": null,
            "flex": null,
            "_model_name": "LayoutModel",
            "justify_items": null,
            "grid_row": null,
            "max_height": null,
            "align_content": null,
            "visibility": null,
            "align_self": null,
            "height": null,
            "min_height": null,
            "padding": null,
            "grid_auto_rows": null,
            "grid_gap": null,
            "max_width": null,
            "order": null,
            "_view_module_version": "1.2.0",
            "grid_template_areas": null,
            "object_position": null,
            "object_fit": null,
            "grid_auto_columns": null,
            "margin": null,
            "display": null,
            "left": null
          }
        },
        "0e6c524ec5ca46cf97d5a947b8f63e2e": {
          "model_module": "@jupyter-widgets/controls",
          "model_name": "DescriptionStyleModel",
          "state": {
            "_view_name": "StyleView",
            "_model_name": "DescriptionStyleModel",
            "description_width": "",
            "_view_module": "@jupyter-widgets/base",
            "_model_module_version": "1.5.0",
            "_view_count": null,
            "_view_module_version": "1.2.0",
            "_model_module": "@jupyter-widgets/controls"
          }
        },
        "aa19053c9db54c789b2f31f5fb477096": {
          "model_module": "@jupyter-widgets/base",
          "model_name": "LayoutModel",
          "state": {
            "_view_name": "LayoutView",
            "grid_template_rows": null,
            "right": null,
            "justify_content": null,
            "_view_module": "@jupyter-widgets/base",
            "overflow": null,
            "_model_module_version": "1.2.0",
            "_view_count": null,
            "flex_flow": null,
            "width": null,
            "min_width": null,
            "border": null,
            "align_items": null,
            "bottom": null,
            "_model_module": "@jupyter-widgets/base",
            "top": null,
            "grid_column": null,
            "overflow_y": null,
            "overflow_x": null,
            "grid_auto_flow": null,
            "grid_area": null,
            "grid_template_columns": null,
            "flex": null,
            "_model_name": "LayoutModel",
            "justify_items": null,
            "grid_row": null,
            "max_height": null,
            "align_content": null,
            "visibility": null,
            "align_self": null,
            "height": null,
            "min_height": null,
            "padding": null,
            "grid_auto_rows": null,
            "grid_gap": null,
            "max_width": null,
            "order": null,
            "_view_module_version": "1.2.0",
            "grid_template_areas": null,
            "object_position": null,
            "object_fit": null,
            "grid_auto_columns": null,
            "margin": null,
            "display": null,
            "left": null
          }
        },
        "3e69a1216c5943ea84e4248a6dd8432a": {
          "model_module": "@jupyter-widgets/controls",
          "model_name": "HBoxModel",
          "state": {
            "_view_name": "HBoxView",
            "_dom_classes": [],
            "_model_name": "HBoxModel",
            "_view_module": "@jupyter-widgets/controls",
            "_model_module_version": "1.5.0",
            "_view_count": null,
            "_view_module_version": "1.5.0",
            "box_style": "",
            "layout": "IPY_MODEL_f1dd959e6b434bcd9c7054fbca38a38c",
            "_model_module": "@jupyter-widgets/controls",
            "children": [
              "IPY_MODEL_49780742634749c2965411ac2efed4e2",
              "IPY_MODEL_ff28ad8fcd7941578d3d082d6a222e61"
            ]
          }
        },
        "f1dd959e6b434bcd9c7054fbca38a38c": {
          "model_module": "@jupyter-widgets/base",
          "model_name": "LayoutModel",
          "state": {
            "_view_name": "LayoutView",
            "grid_template_rows": null,
            "right": null,
            "justify_content": null,
            "_view_module": "@jupyter-widgets/base",
            "overflow": null,
            "_model_module_version": "1.2.0",
            "_view_count": null,
            "flex_flow": null,
            "width": null,
            "min_width": null,
            "border": null,
            "align_items": null,
            "bottom": null,
            "_model_module": "@jupyter-widgets/base",
            "top": null,
            "grid_column": null,
            "overflow_y": null,
            "overflow_x": null,
            "grid_auto_flow": null,
            "grid_area": null,
            "grid_template_columns": null,
            "flex": null,
            "_model_name": "LayoutModel",
            "justify_items": null,
            "grid_row": null,
            "max_height": null,
            "align_content": null,
            "visibility": null,
            "align_self": null,
            "height": null,
            "min_height": null,
            "padding": null,
            "grid_auto_rows": null,
            "grid_gap": null,
            "max_width": null,
            "order": null,
            "_view_module_version": "1.2.0",
            "grid_template_areas": null,
            "object_position": null,
            "object_fit": null,
            "grid_auto_columns": null,
            "margin": null,
            "display": null,
            "left": null
          }
        },
        "49780742634749c2965411ac2efed4e2": {
          "model_module": "@jupyter-widgets/controls",
          "model_name": "FloatProgressModel",
          "state": {
            "_view_name": "ProgressView",
            "style": "IPY_MODEL_e3bca7e1a8244675a061fb81b41c2a38",
            "_dom_classes": [],
            "description": "100%",
            "_model_name": "FloatProgressModel",
            "bar_style": "success",
            "max": 200,
            "_view_module": "@jupyter-widgets/controls",
            "_model_module_version": "1.5.0",
            "value": 200,
            "_view_count": null,
            "_view_module_version": "1.5.0",
            "orientation": "horizontal",
            "min": 0,
            "description_tooltip": null,
            "_model_module": "@jupyter-widgets/controls",
            "layout": "IPY_MODEL_bf171b84d2c44804bb38aca2f058cc6c"
          }
        },
        "ff28ad8fcd7941578d3d082d6a222e61": {
          "model_module": "@jupyter-widgets/controls",
          "model_name": "HTMLModel",
          "state": {
            "_view_name": "HTMLView",
            "style": "IPY_MODEL_d08aca70eecd43a1b2a40cb649c55e61",
            "_dom_classes": [],
            "description": "",
            "_model_name": "HTMLModel",
            "placeholder": "​",
            "_view_module": "@jupyter-widgets/controls",
            "_model_module_version": "1.5.0",
            "value": " 200/200 [02:35&lt;00:00,  1.29epoch/s]",
            "_view_count": null,
            "_view_module_version": "1.5.0",
            "description_tooltip": null,
            "_model_module": "@jupyter-widgets/controls",
            "layout": "IPY_MODEL_c0672e7c5b094126ba1c42d4d7d24880"
          }
        },
        "e3bca7e1a8244675a061fb81b41c2a38": {
          "model_module": "@jupyter-widgets/controls",
          "model_name": "ProgressStyleModel",
          "state": {
            "_view_name": "StyleView",
            "_model_name": "ProgressStyleModel",
            "description_width": "initial",
            "_view_module": "@jupyter-widgets/base",
            "_model_module_version": "1.5.0",
            "_view_count": null,
            "_view_module_version": "1.2.0",
            "bar_color": null,
            "_model_module": "@jupyter-widgets/controls"
          }
        },
        "bf171b84d2c44804bb38aca2f058cc6c": {
          "model_module": "@jupyter-widgets/base",
          "model_name": "LayoutModel",
          "state": {
            "_view_name": "LayoutView",
            "grid_template_rows": null,
            "right": null,
            "justify_content": null,
            "_view_module": "@jupyter-widgets/base",
            "overflow": null,
            "_model_module_version": "1.2.0",
            "_view_count": null,
            "flex_flow": null,
            "width": null,
            "min_width": null,
            "border": null,
            "align_items": null,
            "bottom": null,
            "_model_module": "@jupyter-widgets/base",
            "top": null,
            "grid_column": null,
            "overflow_y": null,
            "overflow_x": null,
            "grid_auto_flow": null,
            "grid_area": null,
            "grid_template_columns": null,
            "flex": null,
            "_model_name": "LayoutModel",
            "justify_items": null,
            "grid_row": null,
            "max_height": null,
            "align_content": null,
            "visibility": null,
            "align_self": null,
            "height": null,
            "min_height": null,
            "padding": null,
            "grid_auto_rows": null,
            "grid_gap": null,
            "max_width": null,
            "order": null,
            "_view_module_version": "1.2.0",
            "grid_template_areas": null,
            "object_position": null,
            "object_fit": null,
            "grid_auto_columns": null,
            "margin": null,
            "display": null,
            "left": null
          }
        },
        "d08aca70eecd43a1b2a40cb649c55e61": {
          "model_module": "@jupyter-widgets/controls",
          "model_name": "DescriptionStyleModel",
          "state": {
            "_view_name": "StyleView",
            "_model_name": "DescriptionStyleModel",
            "description_width": "",
            "_view_module": "@jupyter-widgets/base",
            "_model_module_version": "1.5.0",
            "_view_count": null,
            "_view_module_version": "1.2.0",
            "_model_module": "@jupyter-widgets/controls"
          }
        },
        "c0672e7c5b094126ba1c42d4d7d24880": {
          "model_module": "@jupyter-widgets/base",
          "model_name": "LayoutModel",
          "state": {
            "_view_name": "LayoutView",
            "grid_template_rows": null,
            "right": null,
            "justify_content": null,
            "_view_module": "@jupyter-widgets/base",
            "overflow": null,
            "_model_module_version": "1.2.0",
            "_view_count": null,
            "flex_flow": null,
            "width": null,
            "min_width": null,
            "border": null,
            "align_items": null,
            "bottom": null,
            "_model_module": "@jupyter-widgets/base",
            "top": null,
            "grid_column": null,
            "overflow_y": null,
            "overflow_x": null,
            "grid_auto_flow": null,
            "grid_area": null,
            "grid_template_columns": null,
            "flex": null,
            "_model_name": "LayoutModel",
            "justify_items": null,
            "grid_row": null,
            "max_height": null,
            "align_content": null,
            "visibility": null,
            "align_self": null,
            "height": null,
            "min_height": null,
            "padding": null,
            "grid_auto_rows": null,
            "grid_gap": null,
            "max_width": null,
            "order": null,
            "_view_module_version": "1.2.0",
            "grid_template_areas": null,
            "object_position": null,
            "object_fit": null,
            "grid_auto_columns": null,
            "margin": null,
            "display": null,
            "left": null
          }
        },
        "7efdb629370748388a8daaa5c7b70402": {
          "model_module": "@jupyter-widgets/controls",
          "model_name": "HBoxModel",
          "state": {
            "_view_name": "HBoxView",
            "_dom_classes": [],
            "_model_name": "HBoxModel",
            "_view_module": "@jupyter-widgets/controls",
            "_model_module_version": "1.5.0",
            "_view_count": null,
            "_view_module_version": "1.5.0",
            "box_style": "",
            "layout": "IPY_MODEL_db9632dd5fb346f298c2f24d9cac51e4",
            "_model_module": "@jupyter-widgets/controls",
            "children": [
              "IPY_MODEL_6b390ea839f346c89d7145a270d16ebc",
              "IPY_MODEL_3cf67f123bbb44eca1b7699787eeb040"
            ]
          }
        },
        "db9632dd5fb346f298c2f24d9cac51e4": {
          "model_module": "@jupyter-widgets/base",
          "model_name": "LayoutModel",
          "state": {
            "_view_name": "LayoutView",
            "grid_template_rows": null,
            "right": null,
            "justify_content": null,
            "_view_module": "@jupyter-widgets/base",
            "overflow": null,
            "_model_module_version": "1.2.0",
            "_view_count": null,
            "flex_flow": null,
            "width": null,
            "min_width": null,
            "border": null,
            "align_items": null,
            "bottom": null,
            "_model_module": "@jupyter-widgets/base",
            "top": null,
            "grid_column": null,
            "overflow_y": null,
            "overflow_x": null,
            "grid_auto_flow": null,
            "grid_area": null,
            "grid_template_columns": null,
            "flex": null,
            "_model_name": "LayoutModel",
            "justify_items": null,
            "grid_row": null,
            "max_height": null,
            "align_content": null,
            "visibility": null,
            "align_self": null,
            "height": null,
            "min_height": null,
            "padding": null,
            "grid_auto_rows": null,
            "grid_gap": null,
            "max_width": null,
            "order": null,
            "_view_module_version": "1.2.0",
            "grid_template_areas": null,
            "object_position": null,
            "object_fit": null,
            "grid_auto_columns": null,
            "margin": null,
            "display": null,
            "left": null
          }
        },
        "6b390ea839f346c89d7145a270d16ebc": {
          "model_module": "@jupyter-widgets/controls",
          "model_name": "FloatProgressModel",
          "state": {
            "_view_name": "ProgressView",
            "style": "IPY_MODEL_d0e7f0ddc564442d98ae33d1db6f3d72",
            "_dom_classes": [],
            "description": "100%",
            "_model_name": "FloatProgressModel",
            "bar_style": "success",
            "max": 200,
            "_view_module": "@jupyter-widgets/controls",
            "_model_module_version": "1.5.0",
            "value": 200,
            "_view_count": null,
            "_view_module_version": "1.5.0",
            "orientation": "horizontal",
            "min": 0,
            "description_tooltip": null,
            "_model_module": "@jupyter-widgets/controls",
            "layout": "IPY_MODEL_c44d89ee1b104d44989b46212591c223"
          }
        },
        "3cf67f123bbb44eca1b7699787eeb040": {
          "model_module": "@jupyter-widgets/controls",
          "model_name": "HTMLModel",
          "state": {
            "_view_name": "HTMLView",
            "style": "IPY_MODEL_2efac115408a4313b04ee32f265fa09d",
            "_dom_classes": [],
            "description": "",
            "_model_name": "HTMLModel",
            "placeholder": "​",
            "_view_module": "@jupyter-widgets/controls",
            "_model_module_version": "1.5.0",
            "value": " 200/200 [02:26&lt;00:00,  1.37epoch/s]",
            "_view_count": null,
            "_view_module_version": "1.5.0",
            "description_tooltip": null,
            "_model_module": "@jupyter-widgets/controls",
            "layout": "IPY_MODEL_bfd8a6c2e24c4a9bafed927e4676236d"
          }
        },
        "d0e7f0ddc564442d98ae33d1db6f3d72": {
          "model_module": "@jupyter-widgets/controls",
          "model_name": "ProgressStyleModel",
          "state": {
            "_view_name": "StyleView",
            "_model_name": "ProgressStyleModel",
            "description_width": "initial",
            "_view_module": "@jupyter-widgets/base",
            "_model_module_version": "1.5.0",
            "_view_count": null,
            "_view_module_version": "1.2.0",
            "bar_color": null,
            "_model_module": "@jupyter-widgets/controls"
          }
        },
        "c44d89ee1b104d44989b46212591c223": {
          "model_module": "@jupyter-widgets/base",
          "model_name": "LayoutModel",
          "state": {
            "_view_name": "LayoutView",
            "grid_template_rows": null,
            "right": null,
            "justify_content": null,
            "_view_module": "@jupyter-widgets/base",
            "overflow": null,
            "_model_module_version": "1.2.0",
            "_view_count": null,
            "flex_flow": null,
            "width": null,
            "min_width": null,
            "border": null,
            "align_items": null,
            "bottom": null,
            "_model_module": "@jupyter-widgets/base",
            "top": null,
            "grid_column": null,
            "overflow_y": null,
            "overflow_x": null,
            "grid_auto_flow": null,
            "grid_area": null,
            "grid_template_columns": null,
            "flex": null,
            "_model_name": "LayoutModel",
            "justify_items": null,
            "grid_row": null,
            "max_height": null,
            "align_content": null,
            "visibility": null,
            "align_self": null,
            "height": null,
            "min_height": null,
            "padding": null,
            "grid_auto_rows": null,
            "grid_gap": null,
            "max_width": null,
            "order": null,
            "_view_module_version": "1.2.0",
            "grid_template_areas": null,
            "object_position": null,
            "object_fit": null,
            "grid_auto_columns": null,
            "margin": null,
            "display": null,
            "left": null
          }
        },
        "2efac115408a4313b04ee32f265fa09d": {
          "model_module": "@jupyter-widgets/controls",
          "model_name": "DescriptionStyleModel",
          "state": {
            "_view_name": "StyleView",
            "_model_name": "DescriptionStyleModel",
            "description_width": "",
            "_view_module": "@jupyter-widgets/base",
            "_model_module_version": "1.5.0",
            "_view_count": null,
            "_view_module_version": "1.2.0",
            "_model_module": "@jupyter-widgets/controls"
          }
        },
        "bfd8a6c2e24c4a9bafed927e4676236d": {
          "model_module": "@jupyter-widgets/base",
          "model_name": "LayoutModel",
          "state": {
            "_view_name": "LayoutView",
            "grid_template_rows": null,
            "right": null,
            "justify_content": null,
            "_view_module": "@jupyter-widgets/base",
            "overflow": null,
            "_model_module_version": "1.2.0",
            "_view_count": null,
            "flex_flow": null,
            "width": null,
            "min_width": null,
            "border": null,
            "align_items": null,
            "bottom": null,
            "_model_module": "@jupyter-widgets/base",
            "top": null,
            "grid_column": null,
            "overflow_y": null,
            "overflow_x": null,
            "grid_auto_flow": null,
            "grid_area": null,
            "grid_template_columns": null,
            "flex": null,
            "_model_name": "LayoutModel",
            "justify_items": null,
            "grid_row": null,
            "max_height": null,
            "align_content": null,
            "visibility": null,
            "align_self": null,
            "height": null,
            "min_height": null,
            "padding": null,
            "grid_auto_rows": null,
            "grid_gap": null,
            "max_width": null,
            "order": null,
            "_view_module_version": "1.2.0",
            "grid_template_areas": null,
            "object_position": null,
            "object_fit": null,
            "grid_auto_columns": null,
            "margin": null,
            "display": null,
            "left": null
          }
        }
      }
    }
  },
  "cells": [
    {
      "cell_type": "markdown",
      "metadata": {
        "id": "view-in-github",
        "colab_type": "text"
      },
      "source": [
        "<a href=\"https://colab.research.google.com/github/AkshiMehra/Deep-learning-Neural-Network/blob/main/Gradient_descent_variations.ipynb\" target=\"_parent\"><img src=\"https://colab.research.google.com/assets/colab-badge.svg\" alt=\"Open In Colab\"/></a>"
      ]
    },
    {
      "cell_type": "code",
      "metadata": {
        "id": "q_EeNTk9FCNo"
      },
      "source": [
        "import numpy as np\r\n",
        "import matplotlib.pyplot as plt\r\n",
        "import matplotlib.colors\r\n",
        "import pandas as pd\r\n",
        "from sklearn.model_selection import train_test_split\r\n",
        "from sklearn.metrics import accuracy_score, mean_squared_error, log_loss\r\n",
        "from tqdm import tqdm_notebook \r\n",
        "import seaborn as sns\r\n",
        "import imageio\r\n",
        "from IPython.display import HTML\r\n",
        "from sklearn.datasets import make_blobs"
      ],
      "execution_count": 15,
      "outputs": []
    },
    {
      "cell_type": "code",
      "metadata": {
        "colab": {
          "base_uri": "https://localhost:8080/"
        },
        "id": "wD6mHWw7FTj8",
        "outputId": "627471eb-8464-460b-d884-2c2aa3584509"
      },
      "source": [
        "data,labels=make_blobs(n_samples=1000,n_features=2,centers=2,random_state=0)\r\n",
        "labels=labels.reshape(1000,1)\r\n",
        "print(data.shape,labels.shape)\r\n"
      ],
      "execution_count": 16,
      "outputs": [
        {
          "output_type": "stream",
          "text": [
            "(1000, 2) (1000, 1)\n"
          ],
          "name": "stdout"
        }
      ]
    },
    {
      "cell_type": "code",
      "metadata": {
        "colab": {
          "base_uri": "https://localhost:8080/",
          "height": 265
        },
        "id": "acoc04aIFc__",
        "outputId": "69c1197a-b5ef-4da3-e644-00dec0829827"
      },
      "source": [
        "plt.scatter(data[:,0],data[:,1],c=labels)\r\n",
        "plt.show()"
      ],
      "execution_count": 17,
      "outputs": [
        {
          "output_type": "display_data",
          "data": {
            "image/png": "[encoded data removed]",
            "text/plain": [
              "<Figure size 432x288 with 1 Axes>"
            ]
          },
          "metadata": {
            "tags": [],
            "needs_background": "light"
          }
        }
      ]
    },
    {
      "cell_type": "markdown",
      "metadata": {
        "id": "mVlGa_exFy0q"
      },
      "source": [
        "# Momentum_based_SGD"
      ]
    },
    {
      "cell_type": "code",
      "metadata": {
        "id": "LS-gU_rdHhir"
      },
      "source": [
        "class SigmoidNeuron_msgd:\r\n",
        "  \r\n",
        "  def __init__(self,X):\r\n",
        "    self.w=np.random.random((1,X.shape[1]))\r\n",
        "    self.b=0\r\n",
        "    \r\n",
        "  def perceptron(self, x):\r\n",
        "    return np.dot(x, self.w.T) + self.b\r\n",
        "  \r\n",
        "  def sigmoid(self, x):\r\n",
        "    return 1.0/(1.0 + np.exp(-x))\r\n",
        "  \r\n",
        "  def grad_w(self, x, y):\r\n",
        "    y_pred = self.sigmoid(self.perceptron(x))\r\n",
        "    return (y_pred - y) * y_pred * (1 - y_pred) * x\r\n",
        "  \r\n",
        "  def grad_b(self, x, y):\r\n",
        "    y_pred = self.sigmoid(self.perceptron(x))\r\n",
        "    return (y_pred - y) * y_pred * (1 - y_pred)\r\n",
        "  \r\n",
        "  def fit(self, X, Y, epochs=1, gamma=0.5, learning_rate=1, initialise=True, display_loss=False):\r\n",
        "    \r\n",
        "    # initialise w, b\r\n",
        "    if initialise:\r\n",
        "      self.w = np.random.randn(1, X.shape[1])\r\n",
        "      self.b = 0\r\n",
        "      \r\n",
        "    if display_loss:\r\n",
        "      loss = []\r\n",
        "    \r\n",
        "    v_w=np.zeros((1,X.shape[1]))\r\n",
        "    v_b=0\r\n",
        "    for i in tqdm_notebook(range(epochs), total=epochs, unit=\"epoch\"):\r\n",
        "      dw = np.zeros((1,X.shape[1]))\r\n",
        "      db = 0\r\n",
        "      for x, y in zip(X, Y):\r\n",
        "        dw += self.grad_w(x, y)\r\n",
        "        db += self.grad_b(x, y)\r\n",
        "      v_w=gamma*v_w+learning_rate * dw \r\n",
        "      v_b=gamma*v_b+learning_rate * db       \r\n",
        "      self.w -= v_w\r\n",
        "      self.b -= v_b\r\n",
        "      \r\n",
        "      if display_loss:\r\n",
        "        Y_pred = self.sigmoid(self.perceptron(X))\r\n",
        "        loss.append(mean_squared_error(Y_pred, Y))\r\n",
        "    \r\n",
        "    if display_loss:\r\n",
        "      plt.plot(loss)\r\n",
        "      plt.xlabel('Epochs')\r\n",
        "      plt.ylabel('Mean Squared Error')\r\n",
        "      plt.show()\r\n",
        "      \r\n",
        "  def predict(self, X):\r\n",
        "    Y_pred = []\r\n",
        "    for x in X:\r\n",
        "      y_pred = (self.sigmoid(self.perceptron(x))>=0.5).astype(np.int)\r\n",
        "      Y_pred.append(y_pred)\r\n",
        "    return np.array(Y_pred)"
      ],
      "execution_count": 42,
      "outputs": []
    },
    {
      "cell_type": "code",
      "metadata": {
        "colab": {
          "base_uri": "https://localhost:8080/",
          "height": 362,
          "referenced_widgets": [
            "9a31e0bb28b44d9eaf4e60347300326b",
            "5b3de2fc18764287b55a40263fc97220",
            "5f66364033a24d60b583cc8b51a1342f",
            "f801581729234aa094f0ac7615339abc",
            "b7378a4a99574bb399c1b7c670898a6b",
            "7e5c72a97d154941a70c4c08c28cdb7e",
            "e3ffc9912cf74513bae025338538cf5f",
            "28d5e3b369994439b2d8a5c3c1546f02"
          ]
        },
        "id": "dg0JF5ZfJcWn",
        "outputId": "e53d1082-d135-4080-cc25-a0c68f5dd3f3"
      },
      "source": [
        "sng=SigmoidNeuron_msgd(data)\r\n",
        "sng.fit(data,labels,200,0.05,0.6,True,True)"
      ],
      "execution_count": 43,
      "outputs": [
        {
          "output_type": "stream",
          "text": [
            "/usr/local/lib/python3.6/dist-packages/ipykernel_launcher.py:33: TqdmDeprecationWarning: This function will be removed in tqdm==5.0.0\n",
            "Please use `tqdm.notebook.tqdm` instead of `tqdm.tqdm_notebook`\n"
          ],
          "name": "stderr"
        },
        {
          "output_type": "display_data",
          "data": {
            "application/vnd.jupyter.widget-view+json": {
              "model_id": "9a31e0bb28b44d9eaf4e60347300326b",
              "version_minor": 0,
              "version_major": 2
            },
            "text/plain": [
              "HBox(children=(FloatProgress(value=0.0, max=200.0), HTML(value='')))"
            ]
          },
          "metadata": {
            "tags": []
          }
        },
        {
          "output_type": "stream",
          "text": [
            "\n"
          ],
          "name": "stdout"
        },
        {
          "output_type": "display_data",
          "data": {
            "image/png": "[encoded data removed]",
            "text/plain": [
              "<Figure size 432x288 with 1 Axes>"
            ]
          },
          "metadata": {
            "tags": [],
            "needs_background": "light"
          }
        }
      ]
    },
    {
      "cell_type": "code",
      "metadata": {
        "colab": {
          "base_uri": "https://localhost:8080/"
        },
        "id": "kxMXEiAcJizN",
        "outputId": "2cf8fefc-2515-4611-e045-27dcdfa4cc2e"
      },
      "source": [
        "y_ped=sng.predict(data)\r\n",
        "print(accuracy_score(y_ped,labels))\r\n",
        "print(mean_squared_error(y_ped,labels))"
      ],
      "execution_count": 44,
      "outputs": [
        {
          "output_type": "stream",
          "text": [
            "0.943\n",
            "0.057\n"
          ],
          "name": "stdout"
        }
      ]
    },
    {
      "cell_type": "markdown",
      "metadata": {
        "id": "ym_zD98z_9ue"
      },
      "source": [
        "#Nestrove accelerated sgd!\r\n"
      ]
    },
    {
      "cell_type": "code",
      "metadata": {
        "id": "H6GBpWZAJ840"
      },
      "source": [
        "class SigmoidNeuron_nstrov:\r\n",
        "  \r\n",
        "  def __init__(self,X):\r\n",
        "    self.w=np.random.random((1,X.shape[1]))\r\n",
        "    self.b=0\r\n",
        "    \r\n",
        "  def perceptron(self, x):\r\n",
        "    return np.dot(x, self.w.T) + self.b\r\n",
        "  \r\n",
        "  def sigmoid(self, x):\r\n",
        "    return 1.0/(1.0 + np.exp(-x))\r\n",
        "  \r\n",
        "  def grad_w(self, x, y):\r\n",
        "    y_pred = self.sigmoid(self.perceptron(x))\r\n",
        "    return (y_pred - y) * y_pred * (1 - y_pred) * x\r\n",
        "  \r\n",
        "  def grad_b(self, x, y):\r\n",
        "    y_pred = self.sigmoid(self.perceptron(x))\r\n",
        "    return (y_pred - y) * y_pred * (1 - y_pred)\r\n",
        "  \r\n",
        "  def fit(self, X, Y, epochs=1, gamma=0.5, learning_rate=1, initialise=True, display_loss=False):\r\n",
        "    \r\n",
        "    # initialise w, b\r\n",
        "    if initialise:\r\n",
        "      self.w = np.random.randn(1, X.shape[1])\r\n",
        "      self.b = 0\r\n",
        "      \r\n",
        "    if display_loss:\r\n",
        "      loss = []\r\n",
        "    \r\n",
        "    v_w=np.zeros((1,X.shape[1]))\r\n",
        "    v_b=0\r\n",
        "    for i in tqdm_notebook(range(epochs), total=epochs, unit=\"epoch\"):\r\n",
        "      dw = np.zeros((1,X.shape[1]))\r\n",
        "      db = 0\r\n",
        "      self.w-=gamma*v_w\r\n",
        "      self.b-=gamma*v_b\r\n",
        "      for x, y in zip(X, Y):\r\n",
        "        dw += self.grad_w(x, y)\r\n",
        "        db += self.grad_b(x, y)     \r\n",
        "      self.w -= learning_rate*dw\r\n",
        "      self.b -= learning_rate*db\r\n",
        "\r\n",
        "      v_w=gamma*v_w+learning_rate * dw \r\n",
        "      v_b=gamma*v_b+learning_rate * db  \r\n",
        "      \r\n",
        "      if display_loss:\r\n",
        "        Y_pred = self.sigmoid(self.perceptron(X))\r\n",
        "        loss.append(mean_squared_error(Y_pred, Y))\r\n",
        "    \r\n",
        "    if display_loss:\r\n",
        "      plt.plot(loss)\r\n",
        "      plt.xlabel('Epochs')\r\n",
        "      plt.ylabel('Mean Squared Error')\r\n",
        "      plt.show()\r\n",
        "      \r\n",
        "  def predict(self, X):\r\n",
        "    Y_pred = []\r\n",
        "    for x in X:\r\n",
        "      y_pred = (self.sigmoid(self.perceptron(x))>=0.5).astype(np.int)\r\n",
        "      Y_pred.append(y_pred)\r\n",
        "    return np.array(Y_pred)"
      ],
      "execution_count": 21,
      "outputs": []
    },
    {
      "cell_type": "code",
      "metadata": {
        "colab": {
          "base_uri": "https://localhost:8080/",
          "height": 362,
          "referenced_widgets": [
            "f1a167b1af1142d5991dbe2ee735876d",
            "c3cfc3970158457bb42ed231a26da60e",
            "00af8d0a1b9f4e3bb0ebabf5566e16d0",
            "43870368502548abb0b64673464cf93c",
            "e0be5a26ada2443d927a6d77f8cacf83",
            "f2240da75e7f4d9dade4b7caa7a3acbe",
            "0e6c524ec5ca46cf97d5a947b8f63e2e",
            "aa19053c9db54c789b2f31f5fb477096"
          ]
        },
        "id": "xsy0Mxv4Ajbp",
        "outputId": "c9d0cbe0-87cb-4831-fead-5d838f8a1b1d"
      },
      "source": [
        "obj2=SigmoidNeuron_nstrov(data)\r\n",
        "obj2.fit(data,labels,100,0.2,0.1,True,True)"
      ],
      "execution_count": 22,
      "outputs": [
        {
          "output_type": "stream",
          "text": [
            "/usr/local/lib/python3.6/dist-packages/ipykernel_launcher.py:33: TqdmDeprecationWarning: This function will be removed in tqdm==5.0.0\n",
            "Please use `tqdm.notebook.tqdm` instead of `tqdm.tqdm_notebook`\n"
          ],
          "name": "stderr"
        },
        {
          "output_type": "display_data",
          "data": {
            "application/vnd.jupyter.widget-view+json": {
              "model_id": "f1a167b1af1142d5991dbe2ee735876d",
              "version_minor": 0,
              "version_major": 2
            },
            "text/plain": [
              "HBox(children=(FloatProgress(value=0.0), HTML(value='')))"
            ]
          },
          "metadata": {
            "tags": []
          }
        },
        {
          "output_type": "stream",
          "text": [
            "\n"
          ],
          "name": "stdout"
        },
        {
          "output_type": "display_data",
          "data": {
            "image/png": "[encoded data removed]",
            "text/plain": [
              "<Figure size 432x288 with 1 Axes>"
            ]
          },
          "metadata": {
            "tags": [],
            "needs_background": "light"
          }
        }
      ]
    },
    {
      "cell_type": "code",
      "metadata": {
        "colab": {
          "base_uri": "https://localhost:8080/"
        },
        "id": "ke6W8jgTA93-",
        "outputId": "fd5d28b5-d121-4b1a-ae9f-d53f4b538e39"
      },
      "source": [
        "y_pred1=obj2.predict(data)\r\n",
        "print(accuracy_score(y_pred1,labels))\r\n",
        "print(mean_squared_error(y_pred1,labels))"
      ],
      "execution_count": 23,
      "outputs": [
        {
          "output_type": "stream",
          "text": [
            "0.959\n",
            "0.041\n"
          ],
          "name": "stdout"
        }
      ]
    },
    {
      "cell_type": "markdown",
      "metadata": {
        "id": "Ts8Z3NdqJTD3"
      },
      "source": [
        "# Stochastic Gradient Descent!"
      ]
    },
    {
      "cell_type": "code",
      "metadata": {
        "id": "TGpCODBeFRWS"
      },
      "source": [
        "class SigmoidNeuron_stoch:\r\n",
        "  \r\n",
        "  def __init__(self,X):\r\n",
        "    self.w=np.random.random((1,X.shape[1]))\r\n",
        "    self.b=0\r\n",
        "    \r\n",
        "  def perceptron(self, x):\r\n",
        "    return np.dot(x, self.w.T) + self.b\r\n",
        "  \r\n",
        "  def sigmoid(self, x):\r\n",
        "    return 1.0/(1.0 + np.exp(-x))\r\n",
        "  \r\n",
        "  def grad_w(self, x, y):\r\n",
        "    y_pred = self.sigmoid(self.perceptron(x))\r\n",
        "    return (y_pred - y) * y_pred * (1 - y_pred) * x\r\n",
        "  \r\n",
        "  def grad_b(self, x, y):\r\n",
        "    y_pred = self.sigmoid(self.perceptron(x))\r\n",
        "    return (y_pred - y) * y_pred * (1 - y_pred)\r\n",
        "  \r\n",
        "  def fit(self, X, Y, epochs=1, gamma=0.5, learning_rate=1, initialise=True, display_loss=False):\r\n",
        "    \r\n",
        "    # initialise w, b\r\n",
        "    if initialise:\r\n",
        "      self.w = np.random.randn(1, X.shape[1])\r\n",
        "      self.b = 0\r\n",
        "      \r\n",
        "    if display_loss:\r\n",
        "      loss = []\r\n",
        "    \r\n",
        "    v_w=np.zeros((1,X.shape[1]))\r\n",
        "    v_b=0\r\n",
        "    for i in tqdm_notebook(range(epochs), total=epochs, unit=\"epoch\"):\r\n",
        "      dw = np.zeros((1,X.shape[1]))\r\n",
        "      db = 0\r\n",
        "      for x, y in zip(X, Y):\r\n",
        "        dw = self.grad_w(x, y)\r\n",
        "        db = self.grad_b(x, y)     \r\n",
        "        self.w -= learning_rate*dw\r\n",
        "        self.b -= learning_rate*db\r\n",
        "\r\n",
        "      \r\n",
        "      if display_loss:\r\n",
        "        Y_pred = self.sigmoid(self.perceptron(X))\r\n",
        "        loss.append(mean_squared_error(Y_pred, Y))\r\n",
        "    \r\n",
        "    if display_loss:\r\n",
        "      plt.plot(loss)\r\n",
        "      plt.xlabel('Epochs')\r\n",
        "      plt.ylabel('Mean Squared Error')\r\n",
        "      plt.show()\r\n",
        "      \r\n",
        "  def predict(self, X):\r\n",
        "    Y_pred = []\r\n",
        "    for x in X:\r\n",
        "      y_pred = (self.sigmoid(self.perceptron(x))>=0.5).astype(np.int)\r\n",
        "      Y_pred.append(y_pred)\r\n",
        "    return np.array(Y_pred)"
      ],
      "execution_count": 24,
      "outputs": []
    },
    {
      "cell_type": "code",
      "metadata": {
        "colab": {
          "base_uri": "https://localhost:8080/",
          "height": 395,
          "referenced_widgets": [
            "3e69a1216c5943ea84e4248a6dd8432a",
            "f1dd959e6b434bcd9c7054fbca38a38c",
            "49780742634749c2965411ac2efed4e2",
            "ff28ad8fcd7941578d3d082d6a222e61",
            "e3bca7e1a8244675a061fb81b41c2a38",
            "bf171b84d2c44804bb38aca2f058cc6c",
            "d08aca70eecd43a1b2a40cb649c55e61",
            "c0672e7c5b094126ba1c42d4d7d24880"
          ]
        },
        "id": "Vk6q1My2Jf-4",
        "outputId": "3d310cf7-bdc1-44bd-aebc-8595c35a7b43"
      },
      "source": [
        "obj4=SigmoidNeuron_stoch(data)\r\n",
        "obj4.fit(data,labels,200,1,0.5,True,True)\r\n",
        "y_pred_stoch=obj4.predict(data)\r\n",
        "print(accuracy_score(y_pred_stoch,labels))\r\n",
        "print(mean_squared_error(y_pred_stoch,labels))"
      ],
      "execution_count": 25,
      "outputs": [
        {
          "output_type": "stream",
          "text": [
            "/usr/local/lib/python3.6/dist-packages/ipykernel_launcher.py:33: TqdmDeprecationWarning: This function will be removed in tqdm==5.0.0\n",
            "Please use `tqdm.notebook.tqdm` instead of `tqdm.tqdm_notebook`\n"
          ],
          "name": "stderr"
        },
        {
          "output_type": "display_data",
          "data": {
            "application/vnd.jupyter.widget-view+json": {
              "model_id": "3e69a1216c5943ea84e4248a6dd8432a",
              "version_minor": 0,
              "version_major": 2
            },
            "text/plain": [
              "HBox(children=(FloatProgress(value=0.0, max=200.0), HTML(value='')))"
            ]
          },
          "metadata": {
            "tags": []
          }
        },
        {
          "output_type": "stream",
          "text": [
            "\n"
          ],
          "name": "stdout"
        },
        {
          "output_type": "display_data",
          "data": {
            "image/png": "[encoded data removed]",
            "text/plain": [
              "<Figure size 432x288 with 1 Axes>"
            ]
          },
          "metadata": {
            "tags": [],
            "needs_background": "light"
          }
        },
        {
          "output_type": "stream",
          "text": [
            "0.957\n",
            "0.043\n"
          ],
          "name": "stdout"
        }
      ]
    },
    {
      "cell_type": "markdown",
      "metadata": {
        "id": "Zu3aqL7ANS0Y"
      },
      "source": [
        "# Mini_batch gradient descent!"
      ]
    },
    {
      "cell_type": "code",
      "metadata": {
        "id": "7HBQfI_6NWBu"
      },
      "source": [
        "class SigmoidNeuron_mini:\r\n",
        "  \r\n",
        "  def __init__(self,X):\r\n",
        "    self.w=np.random.random((1,X.shape[1]))\r\n",
        "    self.b=0\r\n",
        "    \r\n",
        "  def perceptron(self, x):\r\n",
        "    return np.dot(x, self.w.T) + self.b\r\n",
        "  \r\n",
        "  def sigmoid(self, x):\r\n",
        "    return 1.0/(1.0 + np.exp(-x))\r\n",
        "  \r\n",
        "  def grad_w(self, x, y):\r\n",
        "    y_pred = self.sigmoid(self.perceptron(x))\r\n",
        "    return (y_pred - y) * y_pred * (1 - y_pred) * x\r\n",
        "  \r\n",
        "  def grad_b(self, x, y):\r\n",
        "    y_pred = self.sigmoid(self.perceptron(x))\r\n",
        "    return (y_pred - y) * y_pred * (1 - y_pred)\r\n",
        "  \r\n",
        "  def fit(self, X, Y, epochs=1, batch_size=4 , learning_rate=1, initialise=True, display_loss=False):\r\n",
        "    \r\n",
        "    # initialise w, b\r\n",
        "    if initialise:\r\n",
        "      self.w = np.random.randn(1, X.shape[1])\r\n",
        "      self.b = 0\r\n",
        "      \r\n",
        "    if display_loss:\r\n",
        "      loss = []\r\n",
        "    \r\n",
        "    v_w=np.zeros((1,X.shape[1]))\r\n",
        "    v_b=0\r\n",
        "    for i in tqdm_notebook(range(epochs), total=epochs, unit=\"epoch\"):\r\n",
        "      dw = np.zeros((1,X.shape[1]))\r\n",
        "      db = 0\r\n",
        "      c=0\r\n",
        "      for x, y in zip(X, Y):\r\n",
        "        dw = self.grad_w(x, y)\r\n",
        "        db = self.grad_b(x, y) \r\n",
        "        \r\n",
        "        c+=1\r\n",
        "        if  c % batch_size==0:    \r\n",
        "          self.w -= learning_rate*dw\r\n",
        "          self.b -= learning_rate*db\r\n",
        "\r\n",
        "      \r\n",
        "      if display_loss:\r\n",
        "        Y_pred = self.sigmoid(self.perceptron(X))\r\n",
        "        loss.append(mean_squared_error(Y_pred, Y))\r\n",
        "    \r\n",
        "    if display_loss:\r\n",
        "      plt.plot(loss)\r\n",
        "      plt.xlabel('Epochs')\r\n",
        "      plt.ylabel('Mean Squared Error')\r\n",
        "      plt.show()\r\n",
        "      \r\n",
        "  def predict(self, X):\r\n",
        "    Y_pred = []\r\n",
        "    for x in X:\r\n",
        "      y_pred = (self.sigmoid(self.perceptron(x))>=0.5).astype(np.int)\r\n",
        "      Y_pred.append(y_pred)\r\n",
        "    return np.array(Y_pred)"
      ],
      "execution_count": 26,
      "outputs": []
    },
    {
      "cell_type": "code",
      "metadata": {
        "colab": {
          "base_uri": "https://localhost:8080/",
          "height": 395,
          "referenced_widgets": [
            "7efdb629370748388a8daaa5c7b70402",
            "db9632dd5fb346f298c2f24d9cac51e4",
            "6b390ea839f346c89d7145a270d16ebc",
            "3cf67f123bbb44eca1b7699787eeb040",
            "d0e7f0ddc564442d98ae33d1db6f3d72",
            "c44d89ee1b104d44989b46212591c223",
            "2efac115408a4313b04ee32f265fa09d",
            "bfd8a6c2e24c4a9bafed927e4676236d"
          ]
        },
        "id": "ak4EILZVNZgQ",
        "outputId": "06f5aea1-2d21-40f9-f8d7-f904c0a6b2b9"
      },
      "source": [
        "obj5=SigmoidNeuron_mini(data)\r\n",
        "obj5.fit(data,labels,200,1,0.5,True,True)\r\n",
        "y_pred_m=obj4.predict(data)\r\n",
        "print(accuracy_score(y_pred_m,labels))\r\n",
        "print(mean_squared_error(y_pred_m,labels))"
      ],
      "execution_count": 27,
      "outputs": [
        {
          "output_type": "stream",
          "text": [
            "/usr/local/lib/python3.6/dist-packages/ipykernel_launcher.py:33: TqdmDeprecationWarning: This function will be removed in tqdm==5.0.0\n",
            "Please use `tqdm.notebook.tqdm` instead of `tqdm.tqdm_notebook`\n"
          ],
          "name": "stderr"
        },
        {
          "output_type": "display_data",
          "data": {
            "application/vnd.jupyter.widget-view+json": {
              "model_id": "7efdb629370748388a8daaa5c7b70402",
              "version_minor": 0,
              "version_major": 2
            },
            "text/plain": [
              "HBox(children=(FloatProgress(value=0.0, max=200.0), HTML(value='')))"
            ]
          },
          "metadata": {
            "tags": []
          }
        },
        {
          "output_type": "stream",
          "text": [
            "\n"
          ],
          "name": "stdout"
        },
        {
          "output_type": "display_data",
          "data": {
            "image/png": "[encoded data removed]",
            "text/plain": [
              "<Figure size 432x288 with 1 Axes>"
            ]
          },
          "metadata": {
            "tags": [],
            "needs_background": "light"
          }
        },
        {
          "output_type": "stream",
          "text": [
            "0.957\n",
            "0.043\n"
          ],
          "name": "stdout"
        }
      ]
    },
    {
      "cell_type": "markdown",
      "metadata": {
        "id": "1VRj2P0GRppR"
      },
      "source": [
        "# So, Above were some variations of Gradient Descent Algorithms.\r\n",
        "*1*. Just like we had stochastic and mini_batch algorithm for Batch or Vanilla gradient descent, in the same manner, we can use stochastic nestrov or mini_batch nestrov based alogorithms!"
      ]
    }
  ]
}