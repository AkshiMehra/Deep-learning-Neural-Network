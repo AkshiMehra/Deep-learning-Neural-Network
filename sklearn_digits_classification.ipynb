{
  "nbformat": 4,
  "nbformat_minor": 0,
  "metadata": {
    "colab": {
      "name": "sklearn_digits_classification.ipynb",
      "provenance": [],
      "collapsed_sections": []
    },
    "kernelspec": {
      "name": "python3",
      "display_name": "Python 3"
    },
    "widgets": {
      "application/vnd.jupyter.widget-state+json": {
        "9abf0582aa2c416a82980a8fa137dc47": {
          "model_module": "@jupyter-widgets/controls",
          "model_name": "HBoxModel",
          "state": {
            "_view_name": "HBoxView",
            "_dom_classes": [],
            "_model_name": "HBoxModel",
            "_view_module": "@jupyter-widgets/controls",
            "_model_module_version": "1.5.0",
            "_view_count": null,
            "_view_module_version": "1.5.0",
            "box_style": "",
            "layout": "IPY_MODEL_bd31cbae66a94050b3766c8a3ac388f8",
            "_model_module": "@jupyter-widgets/controls",
            "children": [
              "IPY_MODEL_52388f9898c64f15b0452202e6d16fa4",
              "IPY_MODEL_fd85a4508c334cc5884aa2fca94bf07a"
            ]
          }
        },
        "bd31cbae66a94050b3766c8a3ac388f8": {
          "model_module": "@jupyter-widgets/base",
          "model_name": "LayoutModel",
          "state": {
            "_view_name": "LayoutView",
            "grid_template_rows": null,
            "right": null,
            "justify_content": null,
            "_view_module": "@jupyter-widgets/base",
            "overflow": null,
            "_model_module_version": "1.2.0",
            "_view_count": null,
            "flex_flow": null,
            "width": null,
            "min_width": null,
            "border": null,
            "align_items": null,
            "bottom": null,
            "_model_module": "@jupyter-widgets/base",
            "top": null,
            "grid_column": null,
            "overflow_y": null,
            "overflow_x": null,
            "grid_auto_flow": null,
            "grid_area": null,
            "grid_template_columns": null,
            "flex": null,
            "_model_name": "LayoutModel",
            "justify_items": null,
            "grid_row": null,
            "max_height": null,
            "align_content": null,
            "visibility": null,
            "align_self": null,
            "height": null,
            "min_height": null,
            "padding": null,
            "grid_auto_rows": null,
            "grid_gap": null,
            "max_width": null,
            "order": null,
            "_view_module_version": "1.2.0",
            "grid_template_areas": null,
            "object_position": null,
            "object_fit": null,
            "grid_auto_columns": null,
            "margin": null,
            "display": null,
            "left": null
          }
        },
        "52388f9898c64f15b0452202e6d16fa4": {
          "model_module": "@jupyter-widgets/controls",
          "model_name": "FloatProgressModel",
          "state": {
            "_view_name": "ProgressView",
            "style": "IPY_MODEL_d78ff7f926b24b3cbf7ef472687c74f9",
            "_dom_classes": [],
            "description": "100%",
            "_model_name": "FloatProgressModel",
            "bar_style": "success",
            "max": 500,
            "_view_module": "@jupyter-widgets/controls",
            "_model_module_version": "1.5.0",
            "value": 500,
            "_view_count": null,
            "_view_module_version": "1.5.0",
            "orientation": "horizontal",
            "min": 0,
            "description_tooltip": null,
            "_model_module": "@jupyter-widgets/controls",
            "layout": "IPY_MODEL_12c9a71f047b414490763dc2326a47fe"
          }
        },
        "fd85a4508c334cc5884aa2fca94bf07a": {
          "model_module": "@jupyter-widgets/controls",
          "model_name": "HTMLModel",
          "state": {
            "_view_name": "HTMLView",
            "style": "IPY_MODEL_ca58a4d061d541b8b8cb2391593b6e0a",
            "_dom_classes": [],
            "description": "",
            "_model_name": "HTMLModel",
            "placeholder": "​",
            "_view_module": "@jupyter-widgets/controls",
            "_model_module_version": "1.5.0",
            "value": " 500/500 [00:02&lt;00:00, 224.52epoch/s]",
            "_view_count": null,
            "_view_module_version": "1.5.0",
            "description_tooltip": null,
            "_model_module": "@jupyter-widgets/controls",
            "layout": "IPY_MODEL_f70a99d83c31496e983d889b5bf586f5"
          }
        },
        "d78ff7f926b24b3cbf7ef472687c74f9": {
          "model_module": "@jupyter-widgets/controls",
          "model_name": "ProgressStyleModel",
          "state": {
            "_view_name": "StyleView",
            "_model_name": "ProgressStyleModel",
            "description_width": "initial",
            "_view_module": "@jupyter-widgets/base",
            "_model_module_version": "1.5.0",
            "_view_count": null,
            "_view_module_version": "1.2.0",
            "bar_color": null,
            "_model_module": "@jupyter-widgets/controls"
          }
        },
        "12c9a71f047b414490763dc2326a47fe": {
          "model_module": "@jupyter-widgets/base",
          "model_name": "LayoutModel",
          "state": {
            "_view_name": "LayoutView",
            "grid_template_rows": null,
            "right": null,
            "justify_content": null,
            "_view_module": "@jupyter-widgets/base",
            "overflow": null,
            "_model_module_version": "1.2.0",
            "_view_count": null,
            "flex_flow": null,
            "width": null,
            "min_width": null,
            "border": null,
            "align_items": null,
            "bottom": null,
            "_model_module": "@jupyter-widgets/base",
            "top": null,
            "grid_column": null,
            "overflow_y": null,
            "overflow_x": null,
            "grid_auto_flow": null,
            "grid_area": null,
            "grid_template_columns": null,
            "flex": null,
            "_model_name": "LayoutModel",
            "justify_items": null,
            "grid_row": null,
            "max_height": null,
            "align_content": null,
            "visibility": null,
            "align_self": null,
            "height": null,
            "min_height": null,
            "padding": null,
            "grid_auto_rows": null,
            "grid_gap": null,
            "max_width": null,
            "order": null,
            "_view_module_version": "1.2.0",
            "grid_template_areas": null,
            "object_position": null,
            "object_fit": null,
            "grid_auto_columns": null,
            "margin": null,
            "display": null,
            "left": null
          }
        },
        "ca58a4d061d541b8b8cb2391593b6e0a": {
          "model_module": "@jupyter-widgets/controls",
          "model_name": "DescriptionStyleModel",
          "state": {
            "_view_name": "StyleView",
            "_model_name": "DescriptionStyleModel",
            "description_width": "",
            "_view_module": "@jupyter-widgets/base",
            "_model_module_version": "1.5.0",
            "_view_count": null,
            "_view_module_version": "1.2.0",
            "_model_module": "@jupyter-widgets/controls"
          }
        },
        "f70a99d83c31496e983d889b5bf586f5": {
          "model_module": "@jupyter-widgets/base",
          "model_name": "LayoutModel",
          "state": {
            "_view_name": "LayoutView",
            "grid_template_rows": null,
            "right": null,
            "justify_content": null,
            "_view_module": "@jupyter-widgets/base",
            "overflow": null,
            "_model_module_version": "1.2.0",
            "_view_count": null,
            "flex_flow": null,
            "width": null,
            "min_width": null,
            "border": null,
            "align_items": null,
            "bottom": null,
            "_model_module": "@jupyter-widgets/base",
            "top": null,
            "grid_column": null,
            "overflow_y": null,
            "overflow_x": null,
            "grid_auto_flow": null,
            "grid_area": null,
            "grid_template_columns": null,
            "flex": null,
            "_model_name": "LayoutModel",
            "justify_items": null,
            "grid_row": null,
            "max_height": null,
            "align_content": null,
            "visibility": null,
            "align_self": null,
            "height": null,
            "min_height": null,
            "padding": null,
            "grid_auto_rows": null,
            "grid_gap": null,
            "max_width": null,
            "order": null,
            "_view_module_version": "1.2.0",
            "grid_template_areas": null,
            "object_position": null,
            "object_fit": null,
            "grid_auto_columns": null,
            "margin": null,
            "display": null,
            "left": null
          }
        },
        "7332da0a96f544808b2f7b3d91c0d274": {
          "model_module": "@jupyter-widgets/controls",
          "model_name": "HBoxModel",
          "state": {
            "_view_name": "HBoxView",
            "_dom_classes": [],
            "_model_name": "HBoxModel",
            "_view_module": "@jupyter-widgets/controls",
            "_model_module_version": "1.5.0",
            "_view_count": null,
            "_view_module_version": "1.5.0",
            "box_style": "",
            "layout": "IPY_MODEL_7e0be56540e848a6b12a44b78660b94f",
            "_model_module": "@jupyter-widgets/controls",
            "children": [
              "IPY_MODEL_9862b9d298304562abea71687f2558f8",
              "IPY_MODEL_e9e4b5e5ae6f4f01a32ffdab478d598c"
            ]
          }
        },
        "7e0be56540e848a6b12a44b78660b94f": {
          "model_module": "@jupyter-widgets/base",
          "model_name": "LayoutModel",
          "state": {
            "_view_name": "LayoutView",
            "grid_template_rows": null,
            "right": null,
            "justify_content": null,
            "_view_module": "@jupyter-widgets/base",
            "overflow": null,
            "_model_module_version": "1.2.0",
            "_view_count": null,
            "flex_flow": null,
            "width": null,
            "min_width": null,
            "border": null,
            "align_items": null,
            "bottom": null,
            "_model_module": "@jupyter-widgets/base",
            "top": null,
            "grid_column": null,
            "overflow_y": null,
            "overflow_x": null,
            "grid_auto_flow": null,
            "grid_area": null,
            "grid_template_columns": null,
            "flex": null,
            "_model_name": "LayoutModel",
            "justify_items": null,
            "grid_row": null,
            "max_height": null,
            "align_content": null,
            "visibility": null,
            "align_self": null,
            "height": null,
            "min_height": null,
            "padding": null,
            "grid_auto_rows": null,
            "grid_gap": null,
            "max_width": null,
            "order": null,
            "_view_module_version": "1.2.0",
            "grid_template_areas": null,
            "object_position": null,
            "object_fit": null,
            "grid_auto_columns": null,
            "margin": null,
            "display": null,
            "left": null
          }
        },
        "9862b9d298304562abea71687f2558f8": {
          "model_module": "@jupyter-widgets/controls",
          "model_name": "FloatProgressModel",
          "state": {
            "_view_name": "ProgressView",
            "style": "IPY_MODEL_6afa90af476f4d909b2ac24ecf2a606a",
            "_dom_classes": [],
            "description": "100%",
            "_model_name": "FloatProgressModel",
            "bar_style": "success",
            "max": 500,
            "_view_module": "@jupyter-widgets/controls",
            "_model_module_version": "1.5.0",
            "value": 500,
            "_view_count": null,
            "_view_module_version": "1.5.0",
            "orientation": "horizontal",
            "min": 0,
            "description_tooltip": null,
            "_model_module": "@jupyter-widgets/controls",
            "layout": "IPY_MODEL_812ca61c085945b48c717c7f6584e640"
          }
        },
        "e9e4b5e5ae6f4f01a32ffdab478d598c": {
          "model_module": "@jupyter-widgets/controls",
          "model_name": "HTMLModel",
          "state": {
            "_view_name": "HTMLView",
            "style": "IPY_MODEL_302a03762f1841f49c10a855ec2f7e2b",
            "_dom_classes": [],
            "description": "",
            "_model_name": "HTMLModel",
            "placeholder": "​",
            "_view_module": "@jupyter-widgets/controls",
            "_model_module_version": "1.5.0",
            "value": " 500/500 [00:03&lt;00:00, 162.24epoch/s]",
            "_view_count": null,
            "_view_module_version": "1.5.0",
            "description_tooltip": null,
            "_model_module": "@jupyter-widgets/controls",
            "layout": "IPY_MODEL_f179b051accd44349a5a1a272ff5a1b2"
          }
        },
        "6afa90af476f4d909b2ac24ecf2a606a": {
          "model_module": "@jupyter-widgets/controls",
          "model_name": "ProgressStyleModel",
          "state": {
            "_view_name": "StyleView",
            "_model_name": "ProgressStyleModel",
            "description_width": "initial",
            "_view_module": "@jupyter-widgets/base",
            "_model_module_version": "1.5.0",
            "_view_count": null,
            "_view_module_version": "1.2.0",
            "bar_color": null,
            "_model_module": "@jupyter-widgets/controls"
          }
        },
        "812ca61c085945b48c717c7f6584e640": {
          "model_module": "@jupyter-widgets/base",
          "model_name": "LayoutModel",
          "state": {
            "_view_name": "LayoutView",
            "grid_template_rows": null,
            "right": null,
            "justify_content": null,
            "_view_module": "@jupyter-widgets/base",
            "overflow": null,
            "_model_module_version": "1.2.0",
            "_view_count": null,
            "flex_flow": null,
            "width": null,
            "min_width": null,
            "border": null,
            "align_items": null,
            "bottom": null,
            "_model_module": "@jupyter-widgets/base",
            "top": null,
            "grid_column": null,
            "overflow_y": null,
            "overflow_x": null,
            "grid_auto_flow": null,
            "grid_area": null,
            "grid_template_columns": null,
            "flex": null,
            "_model_name": "LayoutModel",
            "justify_items": null,
            "grid_row": null,
            "max_height": null,
            "align_content": null,
            "visibility": null,
            "align_self": null,
            "height": null,
            "min_height": null,
            "padding": null,
            "grid_auto_rows": null,
            "grid_gap": null,
            "max_width": null,
            "order": null,
            "_view_module_version": "1.2.0",
            "grid_template_areas": null,
            "object_position": null,
            "object_fit": null,
            "grid_auto_columns": null,
            "margin": null,
            "display": null,
            "left": null
          }
        },
        "302a03762f1841f49c10a855ec2f7e2b": {
          "model_module": "@jupyter-widgets/controls",
          "model_name": "DescriptionStyleModel",
          "state": {
            "_view_name": "StyleView",
            "_model_name": "DescriptionStyleModel",
            "description_width": "",
            "_view_module": "@jupyter-widgets/base",
            "_model_module_version": "1.5.0",
            "_view_count": null,
            "_view_module_version": "1.2.0",
            "_model_module": "@jupyter-widgets/controls"
          }
        },
        "f179b051accd44349a5a1a272ff5a1b2": {
          "model_module": "@jupyter-widgets/base",
          "model_name": "LayoutModel",
          "state": {
            "_view_name": "LayoutView",
            "grid_template_rows": null,
            "right": null,
            "justify_content": null,
            "_view_module": "@jupyter-widgets/base",
            "overflow": null,
            "_model_module_version": "1.2.0",
            "_view_count": null,
            "flex_flow": null,
            "width": null,
            "min_width": null,
            "border": null,
            "align_items": null,
            "bottom": null,
            "_model_module": "@jupyter-widgets/base",
            "top": null,
            "grid_column": null,
            "overflow_y": null,
            "overflow_x": null,
            "grid_auto_flow": null,
            "grid_area": null,
            "grid_template_columns": null,
            "flex": null,
            "_model_name": "LayoutModel",
            "justify_items": null,
            "grid_row": null,
            "max_height": null,
            "align_content": null,
            "visibility": null,
            "align_self": null,
            "height": null,
            "min_height": null,
            "padding": null,
            "grid_auto_rows": null,
            "grid_gap": null,
            "max_width": null,
            "order": null,
            "_view_module_version": "1.2.0",
            "grid_template_areas": null,
            "object_position": null,
            "object_fit": null,
            "grid_auto_columns": null,
            "margin": null,
            "display": null,
            "left": null
          }
        },
        "09f3d07415354badb3f186b5a2a0237d": {
          "model_module": "@jupyter-widgets/controls",
          "model_name": "HBoxModel",
          "state": {
            "_view_name": "HBoxView",
            "_dom_classes": [],
            "_model_name": "HBoxModel",
            "_view_module": "@jupyter-widgets/controls",
            "_model_module_version": "1.5.0",
            "_view_count": null,
            "_view_module_version": "1.5.0",
            "box_style": "",
            "layout": "IPY_MODEL_01e1beacbe4643cf889202e1dab8e14a",
            "_model_module": "@jupyter-widgets/controls",
            "children": [
              "IPY_MODEL_4cbf747ddf794bb0ad5c4ad0bea82550",
              "IPY_MODEL_314b1615a95649a88ffe68390ca132f8"
            ]
          }
        },
        "01e1beacbe4643cf889202e1dab8e14a": {
          "model_module": "@jupyter-widgets/base",
          "model_name": "LayoutModel",
          "state": {
            "_view_name": "LayoutView",
            "grid_template_rows": null,
            "right": null,
            "justify_content": null,
            "_view_module": "@jupyter-widgets/base",
            "overflow": null,
            "_model_module_version": "1.2.0",
            "_view_count": null,
            "flex_flow": null,
            "width": null,
            "min_width": null,
            "border": null,
            "align_items": null,
            "bottom": null,
            "_model_module": "@jupyter-widgets/base",
            "top": null,
            "grid_column": null,
            "overflow_y": null,
            "overflow_x": null,
            "grid_auto_flow": null,
            "grid_area": null,
            "grid_template_columns": null,
            "flex": null,
            "_model_name": "LayoutModel",
            "justify_items": null,
            "grid_row": null,
            "max_height": null,
            "align_content": null,
            "visibility": null,
            "align_self": null,
            "height": null,
            "min_height": null,
            "padding": null,
            "grid_auto_rows": null,
            "grid_gap": null,
            "max_width": null,
            "order": null,
            "_view_module_version": "1.2.0",
            "grid_template_areas": null,
            "object_position": null,
            "object_fit": null,
            "grid_auto_columns": null,
            "margin": null,
            "display": null,
            "left": null
          }
        },
        "4cbf747ddf794bb0ad5c4ad0bea82550": {
          "model_module": "@jupyter-widgets/controls",
          "model_name": "FloatProgressModel",
          "state": {
            "_view_name": "ProgressView",
            "style": "IPY_MODEL_94537ddb039540f2a2ba66feb2d17265",
            "_dom_classes": [],
            "description": "100%",
            "_model_name": "FloatProgressModel",
            "bar_style": "success",
            "max": 500,
            "_view_module": "@jupyter-widgets/controls",
            "_model_module_version": "1.5.0",
            "value": 500,
            "_view_count": null,
            "_view_module_version": "1.5.0",
            "orientation": "horizontal",
            "min": 0,
            "description_tooltip": null,
            "_model_module": "@jupyter-widgets/controls",
            "layout": "IPY_MODEL_1e01110558984ee1921e2b1fe9a1aded"
          }
        },
        "314b1615a95649a88ffe68390ca132f8": {
          "model_module": "@jupyter-widgets/controls",
          "model_name": "HTMLModel",
          "state": {
            "_view_name": "HTMLView",
            "style": "IPY_MODEL_430f748418ac47f297e092e7de7f1572",
            "_dom_classes": [],
            "description": "",
            "_model_name": "HTMLModel",
            "placeholder": "​",
            "_view_module": "@jupyter-widgets/controls",
            "_model_module_version": "1.5.0",
            "value": " 500/500 [00:02&lt;00:00, 177.24epoch/s]",
            "_view_count": null,
            "_view_module_version": "1.5.0",
            "description_tooltip": null,
            "_model_module": "@jupyter-widgets/controls",
            "layout": "IPY_MODEL_1083ede187a64ab9bab0005f11672bc7"
          }
        },
        "94537ddb039540f2a2ba66feb2d17265": {
          "model_module": "@jupyter-widgets/controls",
          "model_name": "ProgressStyleModel",
          "state": {
            "_view_name": "StyleView",
            "_model_name": "ProgressStyleModel",
            "description_width": "initial",
            "_view_module": "@jupyter-widgets/base",
            "_model_module_version": "1.5.0",
            "_view_count": null,
            "_view_module_version": "1.2.0",
            "bar_color": null,
            "_model_module": "@jupyter-widgets/controls"
          }
        },
        "1e01110558984ee1921e2b1fe9a1aded": {
          "model_module": "@jupyter-widgets/base",
          "model_name": "LayoutModel",
          "state": {
            "_view_name": "LayoutView",
            "grid_template_rows": null,
            "right": null,
            "justify_content": null,
            "_view_module": "@jupyter-widgets/base",
            "overflow": null,
            "_model_module_version": "1.2.0",
            "_view_count": null,
            "flex_flow": null,
            "width": null,
            "min_width": null,
            "border": null,
            "align_items": null,
            "bottom": null,
            "_model_module": "@jupyter-widgets/base",
            "top": null,
            "grid_column": null,
            "overflow_y": null,
            "overflow_x": null,
            "grid_auto_flow": null,
            "grid_area": null,
            "grid_template_columns": null,
            "flex": null,
            "_model_name": "LayoutModel",
            "justify_items": null,
            "grid_row": null,
            "max_height": null,
            "align_content": null,
            "visibility": null,
            "align_self": null,
            "height": null,
            "min_height": null,
            "padding": null,
            "grid_auto_rows": null,
            "grid_gap": null,
            "max_width": null,
            "order": null,
            "_view_module_version": "1.2.0",
            "grid_template_areas": null,
            "object_position": null,
            "object_fit": null,
            "grid_auto_columns": null,
            "margin": null,
            "display": null,
            "left": null
          }
        },
        "430f748418ac47f297e092e7de7f1572": {
          "model_module": "@jupyter-widgets/controls",
          "model_name": "DescriptionStyleModel",
          "state": {
            "_view_name": "StyleView",
            "_model_name": "DescriptionStyleModel",
            "description_width": "",
            "_view_module": "@jupyter-widgets/base",
            "_model_module_version": "1.5.0",
            "_view_count": null,
            "_view_module_version": "1.2.0",
            "_model_module": "@jupyter-widgets/controls"
          }
        },
        "1083ede187a64ab9bab0005f11672bc7": {
          "model_module": "@jupyter-widgets/base",
          "model_name": "LayoutModel",
          "state": {
            "_view_name": "LayoutView",
            "grid_template_rows": null,
            "right": null,
            "justify_content": null,
            "_view_module": "@jupyter-widgets/base",
            "overflow": null,
            "_model_module_version": "1.2.0",
            "_view_count": null,
            "flex_flow": null,
            "width": null,
            "min_width": null,
            "border": null,
            "align_items": null,
            "bottom": null,
            "_model_module": "@jupyter-widgets/base",
            "top": null,
            "grid_column": null,
            "overflow_y": null,
            "overflow_x": null,
            "grid_auto_flow": null,
            "grid_area": null,
            "grid_template_columns": null,
            "flex": null,
            "_model_name": "LayoutModel",
            "justify_items": null,
            "grid_row": null,
            "max_height": null,
            "align_content": null,
            "visibility": null,
            "align_self": null,
            "height": null,
            "min_height": null,
            "padding": null,
            "grid_auto_rows": null,
            "grid_gap": null,
            "max_width": null,
            "order": null,
            "_view_module_version": "1.2.0",
            "grid_template_areas": null,
            "object_position": null,
            "object_fit": null,
            "grid_auto_columns": null,
            "margin": null,
            "display": null,
            "left": null
          }
        },
        "c223f47e74224073811c8ba328620628": {
          "model_module": "@jupyter-widgets/controls",
          "model_name": "HBoxModel",
          "state": {
            "_view_name": "HBoxView",
            "_dom_classes": [],
            "_model_name": "HBoxModel",
            "_view_module": "@jupyter-widgets/controls",
            "_model_module_version": "1.5.0",
            "_view_count": null,
            "_view_module_version": "1.5.0",
            "box_style": "",
            "layout": "IPY_MODEL_17be82f6008b444987bf6533326491d8",
            "_model_module": "@jupyter-widgets/controls",
            "children": [
              "IPY_MODEL_69dacc58be96404193b034cb01853792",
              "IPY_MODEL_29de01447f5249b6a49c56eff2510475"
            ]
          }
        },
        "17be82f6008b444987bf6533326491d8": {
          "model_module": "@jupyter-widgets/base",
          "model_name": "LayoutModel",
          "state": {
            "_view_name": "LayoutView",
            "grid_template_rows": null,
            "right": null,
            "justify_content": null,
            "_view_module": "@jupyter-widgets/base",
            "overflow": null,
            "_model_module_version": "1.2.0",
            "_view_count": null,
            "flex_flow": null,
            "width": null,
            "min_width": null,
            "border": null,
            "align_items": null,
            "bottom": null,
            "_model_module": "@jupyter-widgets/base",
            "top": null,
            "grid_column": null,
            "overflow_y": null,
            "overflow_x": null,
            "grid_auto_flow": null,
            "grid_area": null,
            "grid_template_columns": null,
            "flex": null,
            "_model_name": "LayoutModel",
            "justify_items": null,
            "grid_row": null,
            "max_height": null,
            "align_content": null,
            "visibility": null,
            "align_self": null,
            "height": null,
            "min_height": null,
            "padding": null,
            "grid_auto_rows": null,
            "grid_gap": null,
            "max_width": null,
            "order": null,
            "_view_module_version": "1.2.0",
            "grid_template_areas": null,
            "object_position": null,
            "object_fit": null,
            "grid_auto_columns": null,
            "margin": null,
            "display": null,
            "left": null
          }
        },
        "69dacc58be96404193b034cb01853792": {
          "model_module": "@jupyter-widgets/controls",
          "model_name": "FloatProgressModel",
          "state": {
            "_view_name": "ProgressView",
            "style": "IPY_MODEL_b73791ebcb214f2795baa7c2e3e5f878",
            "_dom_classes": [],
            "description": "100%",
            "_model_name": "FloatProgressModel",
            "bar_style": "success",
            "max": 500,
            "_view_module": "@jupyter-widgets/controls",
            "_model_module_version": "1.5.0",
            "value": 500,
            "_view_count": null,
            "_view_module_version": "1.5.0",
            "orientation": "horizontal",
            "min": 0,
            "description_tooltip": null,
            "_model_module": "@jupyter-widgets/controls",
            "layout": "IPY_MODEL_1560aaf76b89418ab4333159ca478355"
          }
        },
        "29de01447f5249b6a49c56eff2510475": {
          "model_module": "@jupyter-widgets/controls",
          "model_name": "HTMLModel",
          "state": {
            "_view_name": "HTMLView",
            "style": "IPY_MODEL_25ef3d5db9ff4f9a9c044aaa7e6d5291",
            "_dom_classes": [],
            "description": "",
            "_model_name": "HTMLModel",
            "placeholder": "​",
            "_view_module": "@jupyter-widgets/controls",
            "_model_module_version": "1.5.0",
            "value": " 500/500 [00:02&lt;00:00, 167.83epoch/s]",
            "_view_count": null,
            "_view_module_version": "1.5.0",
            "description_tooltip": null,
            "_model_module": "@jupyter-widgets/controls",
            "layout": "IPY_MODEL_577f33ebb5464efba0c61d20548a66be"
          }
        },
        "b73791ebcb214f2795baa7c2e3e5f878": {
          "model_module": "@jupyter-widgets/controls",
          "model_name": "ProgressStyleModel",
          "state": {
            "_view_name": "StyleView",
            "_model_name": "ProgressStyleModel",
            "description_width": "initial",
            "_view_module": "@jupyter-widgets/base",
            "_model_module_version": "1.5.0",
            "_view_count": null,
            "_view_module_version": "1.2.0",
            "bar_color": null,
            "_model_module": "@jupyter-widgets/controls"
          }
        },
        "1560aaf76b89418ab4333159ca478355": {
          "model_module": "@jupyter-widgets/base",
          "model_name": "LayoutModel",
          "state": {
            "_view_name": "LayoutView",
            "grid_template_rows": null,
            "right": null,
            "justify_content": null,
            "_view_module": "@jupyter-widgets/base",
            "overflow": null,
            "_model_module_version": "1.2.0",
            "_view_count": null,
            "flex_flow": null,
            "width": null,
            "min_width": null,
            "border": null,
            "align_items": null,
            "bottom": null,
            "_model_module": "@jupyter-widgets/base",
            "top": null,
            "grid_column": null,
            "overflow_y": null,
            "overflow_x": null,
            "grid_auto_flow": null,
            "grid_area": null,
            "grid_template_columns": null,
            "flex": null,
            "_model_name": "LayoutModel",
            "justify_items": null,
            "grid_row": null,
            "max_height": null,
            "align_content": null,
            "visibility": null,
            "align_self": null,
            "height": null,
            "min_height": null,
            "padding": null,
            "grid_auto_rows": null,
            "grid_gap": null,
            "max_width": null,
            "order": null,
            "_view_module_version": "1.2.0",
            "grid_template_areas": null,
            "object_position": null,
            "object_fit": null,
            "grid_auto_columns": null,
            "margin": null,
            "display": null,
            "left": null
          }
        },
        "25ef3d5db9ff4f9a9c044aaa7e6d5291": {
          "model_module": "@jupyter-widgets/controls",
          "model_name": "DescriptionStyleModel",
          "state": {
            "_view_name": "StyleView",
            "_model_name": "DescriptionStyleModel",
            "description_width": "",
            "_view_module": "@jupyter-widgets/base",
            "_model_module_version": "1.5.0",
            "_view_count": null,
            "_view_module_version": "1.2.0",
            "_model_module": "@jupyter-widgets/controls"
          }
        },
        "577f33ebb5464efba0c61d20548a66be": {
          "model_module": "@jupyter-widgets/base",
          "model_name": "LayoutModel",
          "state": {
            "_view_name": "LayoutView",
            "grid_template_rows": null,
            "right": null,
            "justify_content": null,
            "_view_module": "@jupyter-widgets/base",
            "overflow": null,
            "_model_module_version": "1.2.0",
            "_view_count": null,
            "flex_flow": null,
            "width": null,
            "min_width": null,
            "border": null,
            "align_items": null,
            "bottom": null,
            "_model_module": "@jupyter-widgets/base",
            "top": null,
            "grid_column": null,
            "overflow_y": null,
            "overflow_x": null,
            "grid_auto_flow": null,
            "grid_area": null,
            "grid_template_columns": null,
            "flex": null,
            "_model_name": "LayoutModel",
            "justify_items": null,
            "grid_row": null,
            "max_height": null,
            "align_content": null,
            "visibility": null,
            "align_self": null,
            "height": null,
            "min_height": null,
            "padding": null,
            "grid_auto_rows": null,
            "grid_gap": null,
            "max_width": null,
            "order": null,
            "_view_module_version": "1.2.0",
            "grid_template_areas": null,
            "object_position": null,
            "object_fit": null,
            "grid_auto_columns": null,
            "margin": null,
            "display": null,
            "left": null
          }
        }
      }
    }
  },
  "cells": [
    {
      "cell_type": "markdown",
      "metadata": {
        "id": "W5ExMoljSEoH"
      },
      "source": [
        "#Below, we have used neural networks for classifying the **skelearn.digits** dataset.\r\n",
        "We can see, How the number of hidden inputs change the accuracy of model.\r\n",
        "(Single layer neural network with varying number of inputs)"
      ]
    },
    {
      "cell_type": "code",
      "metadata": {
        "id": "fCktFbF3GiCo"
      },
      "source": [
        "import numpy as np\r\n",
        "import matplotlib.pyplot as plt\r\n",
        "import matplotlib.colors\r\n",
        "import pandas as pd\r\n",
        "from sklearn.model_selection import train_test_split\r\n",
        "from sklearn.metrics import accuracy_score, mean_squared_error, log_loss\r\n",
        "from tqdm import tqdm_notebook \r\n",
        "import seaborn as sns\r\n",
        "import time\r\n",
        "from sklearn.preprocessing import OneHotEncoder\r\n",
        "from sklearn.datasets import load_iris,load_digits\r\n",
        "\r\n",
        "from numpy.linalg import norm"
      ],
      "execution_count": 1,
      "outputs": []
    },
    {
      "cell_type": "code",
      "metadata": {
        "id": "Vgiff-_mGiiK"
      },
      "source": [
        "my_cmap = matplotlib.colors.LinearSegmentedColormap.from_list(\"\", [\"red\",\"yellow\",\"green\"])"
      ],
      "execution_count": 2,
      "outputs": []
    },
    {
      "cell_type": "code",
      "metadata": {
        "id": "ydW_PYrbGkHD"
      },
      "source": [
        "digits=load_digits()\r\n",
        "data=digits.data\r\n",
        "labels=digits.target"
      ],
      "execution_count": 3,
      "outputs": []
    },
    {
      "cell_type": "code",
      "metadata": {
        "colab": {
          "base_uri": "https://localhost:8080/",
          "height": 292
        },
        "id": "Y8j7Pa-jGl4k",
        "outputId": "02ee1355-5552-4d63-862a-7da2f32c118b"
      },
      "source": [
        "plt.gray() \r\n",
        "plt.matshow(digits.images[1]) \r\n",
        "plt.show() "
      ],
      "execution_count": 4,
      "outputs": [
        {
          "output_type": "display_data",
          "data": {
            "text/plain": [
              "<Figure size 432x288 with 0 Axes>"
            ]
          },
          "metadata": {
            "tags": []
          }
        },
        {
          "output_type": "display_data",
          "data": {
            "image/png": "[encoded data removed]",
            "text/plain": [
              "<Figure size 288x288 with 1 Axes>"
            ]
          },
          "metadata": {
            "tags": [],
            "needs_background": "light"
          }
        }
      ]
    },
    {
      "cell_type": "code",
      "metadata": {
        "colab": {
          "base_uri": "https://localhost:8080/"
        },
        "id": "UABn64FpGnMm",
        "outputId": "f3e3a2ce-cfad-41fd-ee40-b923d9e37076"
      },
      "source": [
        "print(\"Data shape\",data.shape)\r\n",
        "print(\"Labels shape\",labels.shape)"
      ],
      "execution_count": 5,
      "outputs": [
        {
          "output_type": "stream",
          "text": [
            "Data shape (1797, 64)\n",
            "Labels shape (1797,)\n"
          ],
          "name": "stdout"
        }
      ]
    },
    {
      "cell_type": "code",
      "metadata": {
        "colab": {
          "base_uri": "https://localhost:8080/"
        },
        "id": "_bS2BIgdGon3",
        "outputId": "862cb6ea-3437-4018-8003-07a88ad1b080"
      },
      "source": [
        "X_train, X_val, Y_train, Y_val = train_test_split(data, labels, stratify=labels, random_state=0,test_size=0.2)\r\n",
        "print(X_train.shape, X_val.shape, labels.shape)"
      ],
      "execution_count": 6,
      "outputs": [
        {
          "output_type": "stream",
          "text": [
            "(1437, 64) (360, 64) (1797,)\n"
          ],
          "name": "stdout"
        }
      ]
    },
    {
      "cell_type": "code",
      "metadata": {
        "colab": {
          "base_uri": "https://localhost:8080/"
        },
        "id": "ARz1XKzGGqdc",
        "outputId": "67e4cbda-d00f-4e44-9cf4-cfe15f95d22b"
      },
      "source": [
        "enc = OneHotEncoder()\r\n",
        "y_OH_train = enc.fit_transform(np.expand_dims(Y_train,1)).toarray()\r\n",
        "y_OH_val = enc.fit_transform(np.expand_dims(Y_val,1)).toarray()\r\n",
        "print(y_OH_train.shape, y_OH_val.shape)"
      ],
      "execution_count": 7,
      "outputs": [
        {
          "output_type": "stream",
          "text": [
            "(1437, 10) (360, 10)\n"
          ],
          "name": "stdout"
        }
      ]
    },
    {
      "cell_type": "code",
      "metadata": {
        "id": "V7nndwDJGrsB"
      },
      "source": [
        "class FFNetwork:\r\n",
        "  \r\n",
        "  def __init__(self, num_hidden=2, init_method = 'xavier', activation_function = 'sigmoid', leaky_slope = 0.1):\r\n",
        "        \r\n",
        "    self.params={}\r\n",
        "    self.num_layers=2\r\n",
        "    self.layer_sizes = [64, num_hidden, 10]\r\n",
        "    self.activation_function = activation_function\r\n",
        "    self.leaky_slope = leaky_slope\r\n",
        "    np.random.seed(0)\r\n",
        "    \r\n",
        "    if init_method == \"random\":\r\n",
        "      for i in range(1,self.num_layers+1):\r\n",
        "        self.params[\"W\"+str(i)] = np.random.randn(self.layer_sizes[i-1],self.layer_sizes[i])\r\n",
        "        self.params[\"B\"+str(i)] = np.random.randn(1,self.layer_sizes[i])\r\n",
        "        \r\n",
        "    elif init_method == \"he\":\r\n",
        "      for i in range(1,self.num_layers+1):\r\n",
        "        self.params[\"W\"+str(i)] = np.random.randn(self.layer_sizes[i-1],self.layer_sizes[i])*np.sqrt(2/self.layer_sizes[i-1])\r\n",
        "        self.params[\"B\"+str(i)] = np.random.randn(1,self.layer_sizes[i])\r\n",
        "        \r\n",
        "    elif init_method == \"xavier\":\r\n",
        "      for i in range(1,self.num_layers+1):\r\n",
        "        self.params[\"W\"+str(i)]=np.random.randn(self.layer_sizes[i-1],self.layer_sizes[i])*np.sqrt(1/self.layer_sizes[i-1])\r\n",
        "        self.params[\"B\"+str(i)]=np.random.randn(1,self.layer_sizes[i])\r\n",
        "    \r\n",
        "    self.gradients={}\r\n",
        "    self.update_params={}\r\n",
        "    self.prev_update_params={}\r\n",
        "    for i in range(1,self.num_layers+1):\r\n",
        "      self.update_params[\"v_w\"+str(i)]=0\r\n",
        "      self.update_params[\"v_b\"+str(i)]=0\r\n",
        "      self.update_params[\"m_b\"+str(i)]=0\r\n",
        "      self.update_params[\"m_w\"+str(i)]=0\r\n",
        "      self.prev_update_params[\"v_w\"+str(i)]=0\r\n",
        "      self.prev_update_params[\"v_b\"+str(i)]=0\r\n",
        "  \r\n",
        "  def forward_activation(self, X): \r\n",
        "    if self.activation_function == \"sigmoid\":\r\n",
        "      return 1.0/(1.0 + np.exp(-X))\r\n",
        "    elif self.activation_function == \"tanh\":\r\n",
        "      return np.tanh(X)\r\n",
        "    elif self.activation_function == \"relu\":\r\n",
        "      return np.maximum(0,X)\r\n",
        "    elif self.activation_function == \"leaky_relu\":\r\n",
        "      return np.maximum(self.leaky_slope*X,X)\r\n",
        "      \r\n",
        "  def grad_activation(self, X):\r\n",
        "    if self.activation_function == \"sigmoid\":\r\n",
        "      return X*(1-X) \r\n",
        "    elif self.activation_function == \"tanh\":\r\n",
        "      return (1-np.square(X))\r\n",
        "    elif self.activation_function == \"relu\":\r\n",
        "      return 1.0*(X>0)\r\n",
        "    elif self.activation_function == \"leaky_relu\":\r\n",
        "      d=np.zeros_like(X)\r\n",
        "      d[X<=0]=self.leaky_slope\r\n",
        "      d[X>0]=1\r\n",
        "      return d\r\n",
        "    \r\n",
        "  def get_accuracy(self):    \r\n",
        "    Y_pred_train = model.predict(X_train)\r\n",
        "    Y_pred_train = np.argmax(Y_pred_train,1)\r\n",
        "    Y_pred_val = model.predict(X_val)\r\n",
        "    Y_pred_val = np.argmax(Y_pred_val,1)\r\n",
        "    accuracy_train = accuracy_score(Y_pred_train, Y_train)\r\n",
        "    accuracy_val = accuracy_score(Y_pred_val, Y_val)\r\n",
        "    return accuracy_train,accuracy_val\r\n",
        "    \r\n",
        "  def softmax(self, X):\r\n",
        "    exps = np.exp(X)\r\n",
        "    return exps / np.sum(exps, axis=1).reshape(-1,1)\r\n",
        "  \r\n",
        "  def forward_pass(self, X, params = None):\r\n",
        "    if params is None:\r\n",
        "        params = self.params\r\n",
        "    self.A1 = np.matmul(X, params[\"W1\"]) + params[\"B1\"] # (N, 2) * (2, 2) -> (N, 2)\r\n",
        "    self.H1 = self.forward_activation(self.A1) # (N, 2)\r\n",
        "    self.A2 = np.matmul(self.H1, params[\"W2\"]) + params[\"B2\"] # (N, 2) * (2, 2) -> (N, 2)\r\n",
        "    self.H2 = self.softmax(self.A2) # (N, 2)\r\n",
        "    return self.H2\r\n",
        "  \r\n",
        "  def grad(self, X, Y, params = None):\r\n",
        "    if params is None:\r\n",
        "      params = self.params \r\n",
        "      \r\n",
        "    self.forward_pass(X, params)\r\n",
        "    m = X.shape[0]\r\n",
        "    self.gradients[\"dA2\"] = self.H2 - Y # (N, 4) - (N, 4) -> (N, 4)\r\n",
        "    self.gradients[\"dW2\"] = np.matmul(self.H1.T, self.gradients[\"dA2\"]) # (2, N) * (N, 4) -> (2, 4)\r\n",
        "    self.gradients[\"dB2\"] = np.sum(self.gradients[\"dA2\"], axis=0).reshape(1, -1) # (N, 4) -> (1, 4)\r\n",
        "    self.gradients[\"dH1\"] = np.matmul(self.gradients[\"dA2\"], params[\"W2\"].T) # (N, 4) * (4, 2) -> (N, 2)\r\n",
        "    self.gradients[\"dA1\"] = np.multiply(self.gradients[\"dH1\"], self.grad_activation(self.H1)) # (N, 2) .* (N, 2) -> (N, 2)\r\n",
        "    self.gradients[\"dW1\"] = np.matmul(X.T, self.gradients[\"dA1\"]) # (2, N) * (N, 2) -> (2, 2)\r\n",
        "    self.gradients[\"dB1\"] = np.sum(self.gradients[\"dA1\"], axis=0).reshape(1, -1) # (N, 2) -> (1, 2)\r\n",
        "    \r\n",
        "  def fit(self, X, Y, epochs=1, algo= \"GD\",l2_norm=False, lambda_val=0.8, display_loss=False, eta=1):\r\n",
        "    train_accuracies=[]\r\n",
        "    val_accuracies=[]\r\n",
        "    if display_loss:\r\n",
        "      loss = []\r\n",
        "      weight_mag = []\r\n",
        "    for num_epoch in tqdm_notebook(range(epochs), total=epochs, unit=\"epoch\"):\r\n",
        "      m = X.shape[0]\r\n",
        "      \r\n",
        "      self.grad(X, Y)\r\n",
        "      for i in range(1,self.num_layers+1):\r\n",
        "        if l2_norm:\r\n",
        "          self.params[\"W\"+str(i)] -= (eta * lambda_val)/m * self.params[\"W\"+str(i)] + eta * (self.gradients[\"dW\"+str(i)]/m)\r\n",
        "        else:\r\n",
        "          self.params[\"W\"+str(i)] -= eta * (self.gradients[\"dW\"+str(i)]/m)\r\n",
        "        self.params[\"B\"+str(i)] -= eta * (self.gradients[\"dB\"+str(i)]/m)\r\n",
        "          \r\n",
        "      train_accuracy,val_accuracy=self.get_accuracy()\r\n",
        "      train_accuracies.append(train_accuracy)\r\n",
        "      val_accuracies.append(val_accuracy)\r\n",
        "      if display_loss:\r\n",
        "        Y_pred = self.predict(X)\r\n",
        "        loss.append(log_loss(np.argmax(Y, axis=1), Y_pred))\r\n",
        "        weight_mag.append((norm(self.params[\"W1\"]) + norm(self.params[\"W2\"]) + norm(self.params[\"B1\"]) + norm(self.params[\"B2\"]))/18)\r\n",
        "        \r\n",
        "    plt.plot(train_accuracies,label=\"Train accuracy\")\r\n",
        "    plt.plot(val_accuracies,label=\"Validation accuracy\")\r\n",
        "    plt.plot(np.ones((epochs, 1))*0.9)\r\n",
        "    plt.plot(np.ones((epochs, 1))*0.33)\r\n",
        "    plt.xlabel('Epochs')\r\n",
        "    plt.ylabel('Accuracy')\r\n",
        "    plt.legend()\r\n",
        "    plt.show()\r\n",
        "    \r\n",
        "    if display_loss:\r\n",
        "      fig, ax1 = plt.subplots()\r\n",
        "      color = 'tab:red'\r\n",
        "      ax1.set_xlabel('epochs')\r\n",
        "      ax1.set_ylabel('Log Loss', color=color)\r\n",
        "      ax1.plot(loss, '-o', color=color)\r\n",
        "      ax1.tick_params(axis='y', labelcolor=color)\r\n",
        "      ax2 = ax1.twinx()  \r\n",
        "      color = 'tab:blue'\r\n",
        "      ax2.set_ylabel('Weight Magnitude', color=color)  # we already handled the x-label with ax1\r\n",
        "      ax2.plot(weight_mag, '-*', color=color)\r\n",
        "      ax2.tick_params(axis='y', labelcolor=color)\r\n",
        "      fig.tight_layout()  \r\n",
        "      plt.show()\r\n",
        "\r\n",
        "  \r\n",
        "  def predict(self, X):\r\n",
        "    Y_pred = self.forward_pass(X)\r\n",
        "    return np.array(Y_pred).squeeze()                               "
      ],
      "execution_count": 8,
      "outputs": []
    },
    {
      "cell_type": "code",
      "metadata": {
        "id": "I9JpiZDiGtC2"
      },
      "source": [
        "def print_accuracy():    \r\n",
        "    Y_pred_train = model.predict(X_train)\r\n",
        "    Y_pred_train = np.argmax(Y_pred_train,1)\r\n",
        "    Y_pred_val = model.predict(X_val)\r\n",
        "    Y_pred_val = np.argmax(Y_pred_val,1)\r\n",
        "    accuracy_train = accuracy_score(Y_pred_train, Y_train)\r\n",
        "    accuracy_val = accuracy_score(Y_pred_val, Y_val)\r\n",
        "    print(\"Training accuracy\", round(accuracy_train, 4))\r\n",
        "    print(\"Validation accuracy\", round(accuracy_val, 4))\r\n",
        "    \r\n",
        "    if False:\r\n",
        "      plt.scatter(X_train[:,0], X_train[:,1], c=Y_pred_train, cmap=my_cmap, s=15*(np.abs(np.sign(Y_pred_train-Y_train))+.1))\r\n",
        "      plt.show()"
      ],
      "execution_count": 9,
      "outputs": []
    },
    {
      "cell_type": "code",
      "metadata": {
        "colab": {
          "base_uri": "https://localhost:8080/",
          "height": 395,
          "referenced_widgets": [
            "9abf0582aa2c416a82980a8fa137dc47",
            "bd31cbae66a94050b3766c8a3ac388f8",
            "52388f9898c64f15b0452202e6d16fa4",
            "fd85a4508c334cc5884aa2fca94bf07a",
            "d78ff7f926b24b3cbf7ef472687c74f9",
            "12c9a71f047b414490763dc2326a47fe",
            "ca58a4d061d541b8b8cb2391593b6e0a",
            "f70a99d83c31496e983d889b5bf586f5"
          ]
        },
        "id": "ny1BXS04Gui7",
        "outputId": "ffb8452b-c2e8-4085-924e-46682fd5c745"
      },
      "source": [
        "model = FFNetwork(num_hidden=4,init_method = 'he', activation_function = 'leaky_relu')\r\n",
        "model.fit(X_train, y_OH_train, epochs=500, eta=0.05)\r\n",
        "print_accuracy()"
      ],
      "execution_count": 14,
      "outputs": [
        {
          "output_type": "stream",
          "text": [
            "/usr/local/lib/python3.6/dist-packages/ipykernel_launcher.py:103: TqdmDeprecationWarning: This function will be removed in tqdm==5.0.0\n",
            "Please use `tqdm.notebook.tqdm` instead of `tqdm.tqdm_notebook`\n"
          ],
          "name": "stderr"
        },
        {
          "output_type": "display_data",
          "data": {
            "application/vnd.jupyter.widget-view+json": {
              "model_id": "9abf0582aa2c416a82980a8fa137dc47",
              "version_minor": 0,
              "version_major": 2
            },
            "text/plain": [
              "HBox(children=(FloatProgress(value=0.0, max=500.0), HTML(value='')))"
            ]
          },
          "metadata": {
            "tags": []
          }
        },
        {
          "output_type": "stream",
          "text": [
            "\n"
          ],
          "name": "stdout"
        },
        {
          "output_type": "display_data",
          "data": {
            "image/png": "[encoded data removed]",
            "text/plain": [
              "<Figure size 432x288 with 1 Axes>"
            ]
          },
          "metadata": {
            "tags": [],
            "needs_background": "light"
          }
        },
        {
          "output_type": "stream",
          "text": [
            "Training accuracy 0.8295\n",
            "Validation accuracy 0.7806\n"
          ],
          "name": "stdout"
        }
      ]
    },
    {
      "cell_type": "code",
      "metadata": {
        "colab": {
          "base_uri": "https://localhost:8080/",
          "height": 395,
          "referenced_widgets": [
            "7332da0a96f544808b2f7b3d91c0d274",
            "7e0be56540e848a6b12a44b78660b94f",
            "9862b9d298304562abea71687f2558f8",
            "e9e4b5e5ae6f4f01a32ffdab478d598c",
            "6afa90af476f4d909b2ac24ecf2a606a",
            "812ca61c085945b48c717c7f6584e640",
            "302a03762f1841f49c10a855ec2f7e2b",
            "f179b051accd44349a5a1a272ff5a1b2"
          ]
        },
        "id": "JvS6VPCLGwi5",
        "outputId": "aa112858-6309-40f4-a69b-51a7678680c8"
      },
      "source": [
        "model = FFNetwork(num_hidden=8,init_method = 'xavier', activation_function = 'tanh')\r\n",
        "model.fit(X_train, y_OH_train, epochs=500, eta=0.12)\r\n",
        "print_accuracy()"
      ],
      "execution_count": 35,
      "outputs": [
        {
          "output_type": "stream",
          "text": [
            "/usr/local/lib/python3.6/dist-packages/ipykernel_launcher.py:103: TqdmDeprecationWarning: This function will be removed in tqdm==5.0.0\n",
            "Please use `tqdm.notebook.tqdm` instead of `tqdm.tqdm_notebook`\n"
          ],
          "name": "stderr"
        },
        {
          "output_type": "display_data",
          "data": {
            "application/vnd.jupyter.widget-view+json": {
              "model_id": "7332da0a96f544808b2f7b3d91c0d274",
              "version_minor": 0,
              "version_major": 2
            },
            "text/plain": [
              "HBox(children=(FloatProgress(value=0.0, max=500.0), HTML(value='')))"
            ]
          },
          "metadata": {
            "tags": []
          }
        },
        {
          "output_type": "stream",
          "text": [
            "\n"
          ],
          "name": "stdout"
        },
        {
          "output_type": "display_data",
          "data": {
            "image/png": "[encoded data removed]",
            "text/plain": [
              "<Figure size 432x288 with 1 Axes>"
            ]
          },
          "metadata": {
            "tags": [],
            "needs_background": "light"
          }
        },
        {
          "output_type": "stream",
          "text": [
            "Training accuracy 0.9743\n",
            "Validation accuracy 0.9222\n"
          ],
          "name": "stdout"
        }
      ]
    },
    {
      "cell_type": "code",
      "metadata": {
        "colab": {
          "base_uri": "https://localhost:8080/",
          "height": 395,
          "referenced_widgets": [
            "09f3d07415354badb3f186b5a2a0237d",
            "01e1beacbe4643cf889202e1dab8e14a",
            "4cbf747ddf794bb0ad5c4ad0bea82550",
            "314b1615a95649a88ffe68390ca132f8",
            "94537ddb039540f2a2ba66feb2d17265",
            "1e01110558984ee1921e2b1fe9a1aded",
            "430f748418ac47f297e092e7de7f1572",
            "1083ede187a64ab9bab0005f11672bc7"
          ]
        },
        "id": "Al6UpqivHD2P",
        "outputId": "e14869d7-71c6-4662-a5c2-4ecfbb53d8a1"
      },
      "source": [
        "model = FFNetwork(num_hidden=16,init_method = 'he', activation_function = 'leaky_relu')   #We are able to achieve and accuracy of 96.67 on the validation set!\r\n",
        "model.fit(X_train, y_OH_train, epochs=500, eta=0.1)                                    \r\n",
        "print_accuracy()"
      ],
      "execution_count": 18,
      "outputs": [
        {
          "output_type": "stream",
          "text": [
            "/usr/local/lib/python3.6/dist-packages/ipykernel_launcher.py:103: TqdmDeprecationWarning: This function will be removed in tqdm==5.0.0\n",
            "Please use `tqdm.notebook.tqdm` instead of `tqdm.tqdm_notebook`\n"
          ],
          "name": "stderr"
        },
        {
          "output_type": "display_data",
          "data": {
            "application/vnd.jupyter.widget-view+json": {
              "model_id": "09f3d07415354badb3f186b5a2a0237d",
              "version_minor": 0,
              "version_major": 2
            },
            "text/plain": [
              "HBox(children=(FloatProgress(value=0.0, max=500.0), HTML(value='')))"
            ]
          },
          "metadata": {
            "tags": []
          }
        },
        {
          "output_type": "stream",
          "text": [
            "\n"
          ],
          "name": "stdout"
        },
        {
          "output_type": "display_data",
          "data": {
            "image/png": "[encoded data removed]",
            "text/plain": [
              "<Figure size 432x288 with 1 Axes>"
            ]
          },
          "metadata": {
            "tags": [],
            "needs_background": "light"
          }
        },
        {
          "output_type": "stream",
          "text": [
            "Training accuracy 0.991\n",
            "Validation accuracy 0.9667\n"
          ],
          "name": "stdout"
        }
      ]
    },
    {
      "cell_type": "code",
      "metadata": {
        "colab": {
          "base_uri": "https://localhost:8080/",
          "height": 395,
          "referenced_widgets": [
            "c223f47e74224073811c8ba328620628",
            "17be82f6008b444987bf6533326491d8",
            "69dacc58be96404193b034cb01853792",
            "29de01447f5249b6a49c56eff2510475",
            "b73791ebcb214f2795baa7c2e3e5f878",
            "1560aaf76b89418ab4333159ca478355",
            "25ef3d5db9ff4f9a9c044aaa7e6d5291",
            "577f33ebb5464efba0c61d20548a66be"
          ]
        },
        "id": "T1CiZyEZHFgL",
        "outputId": "2aef8dc3-1ec2-4916-ec8f-2e350e66948c"
      },
      "source": [
        "model = FFNetwork(num_hidden=16,init_method = 'he', activation_function = 'leaky_relu')\r\n",
        "model.fit(X_train, y_OH_train, epochs=500, eta=0.11)\r\n",
        "print_accuracy()"
      ],
      "execution_count": 23,
      "outputs": [
        {
          "output_type": "stream",
          "text": [
            "/usr/local/lib/python3.6/dist-packages/ipykernel_launcher.py:103: TqdmDeprecationWarning: This function will be removed in tqdm==5.0.0\n",
            "Please use `tqdm.notebook.tqdm` instead of `tqdm.tqdm_notebook`\n"
          ],
          "name": "stderr"
        },
        {
          "output_type": "display_data",
          "data": {
            "application/vnd.jupyter.widget-view+json": {
              "model_id": "c223f47e74224073811c8ba328620628",
              "version_minor": 0,
              "version_major": 2
            },
            "text/plain": [
              "HBox(children=(FloatProgress(value=0.0, max=500.0), HTML(value='')))"
            ]
          },
          "metadata": {
            "tags": []
          }
        },
        {
          "output_type": "stream",
          "text": [
            "\n"
          ],
          "name": "stdout"
        },
        {
          "output_type": "display_data",
          "data": {
            "image/png": "[encoded data removed]",
            "text/plain": [
              "<Figure size 432x288 with 1 Axes>"
            ]
          },
          "metadata": {
            "tags": [],
            "needs_background": "light"
          }
        },
        {
          "output_type": "stream",
          "text": [
            "Training accuracy 0.9979\n",
            "Validation accuracy 0.9611\n"
          ],
          "name": "stdout"
        }
      ]
    }
  ]
}